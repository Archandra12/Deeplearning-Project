{
  "nbformat": 4,
  "nbformat_minor": 0,
  "metadata": {
    "colab": {
      "name": "DEFCON.ipynb",
      "provenance": [],
      "collapsed_sections": [],
      "toc_visible": true,
      "include_colab_link": true
    },
    "kernelspec": {
      "display_name": "Python 3",
      "name": "python3"
    }
  },
  "cells": [
    {
      "cell_type": "markdown",
      "metadata": {
        "id": "view-in-github",
        "colab_type": "text"
      },
      "source": [
        "<a href=\"https://colab.research.google.com/github/Archandra12/Deeplearning-Project/blob/codes/DEFCON.ipynb\" target=\"_parent\"><img src=\"https://colab.research.google.com/assets/colab-badge.svg\" alt=\"Open In Colab\"/></a>"
      ]
    },
    {
      "cell_type": "markdown",
      "metadata": {
        "id": "rwJAl8otL9Ol"
      },
      "source": [
        "<center><img src=\"https://github.com/insaid2018/Term-1/blob/master/Images/INSAID_Full%20Logo.png?raw=true\" width=\"240\" height=\"180\" /></center>\n",
        "\n",
        "\n"
      ]
    },
    {
      "cell_type": "markdown",
      "metadata": {
        "id": "NRRJxiMRL9Op"
      },
      "source": [
        "### Table of Content\n",
        "\n",
        "1. [Predict Fuel Efficiency Overview](#section1)<br>\n",
        "2. [The Auto MPG Dataset](#section2)<br>\n",
        "  - 2.1 [Get the Data](#section201)<br>\n",
        "  - 2.2 [Clean the Data](#section202)<br>\n",
        "  - 2.3 [Split the Data into Train and Test](#section203)<br>\n",
        "  - 2.4 [Inspect the Data](#section204)<br>\n",
        "  - 2.5 [Split Features from Labels](#section205)<br>\n",
        "  - 2.6 [Normalize the Data](#section206)<br>\n",
        "3. [The Model](#section3)<br>\n",
        "  - 3.1 [Build the Model](#section301)<br>\n",
        "  - 3.2 [Inspect the Model](#section302)<br>\n",
        "  - 3.3 [Train the Model](#section303)<br>\n",
        "  - 3.4 [Make Predictions](#section304)<br>\n",
        "4. [Model Tuning](#section4)<br>\n",
        "  - 4.1 [Increasing the Number of Hidden Layers and Hidden Units](#section401)<br>\n",
        "  - 4.2 [Weight Regularization](#section402)<br>\n",
        "  - 4.3 [Dropout](#section403)<br>\n",
        "  - 4.4 [Combined L2 + Dropout](#section404)<br>\n",
        "  - 4.5 [Batch Normalization](#section405)<br>\n",
        "5. [Conclusion](#section5)<br>"
      ]
    },
    {
      "cell_type": "markdown",
      "metadata": {
        "id": "EIdT9iu_Z4Rb"
      },
      "source": [
        "<a id=section1></a>\n",
        "## 1. Predict DEFCON (Defense Readiness Condition)"
      ]
    },
    {
      "cell_type": "markdown",
      "metadata": {
        "id": "AHp3M9ZmrIxj"
      },
      "source": [
        "Military conflict is an intense state of violence. In such situations, it is crucial for a nation to stay alert, cope with it, and mitigate its\n",
        "implications. The DEFCON system allows the nation’s forces to be a step ahead of its rivals\n",
        "A country has set up the DEFCON (Defense Readiness Condition) warning system. Defense readiness conditions (DEFCONs) describe progressive alert postures primarily for use between the Joint Chiefs of Staff and the commanders of unified commands.\n",
        "DEFCONs are graduated to match situations of varying military severity. DEFCONs are phased increases in combat readiness.\n",
        "It consists of five levels of readiness for the military forces to be prepared for the consequences of the conflict. In general terms, these are descriptions of DEFCONs:\n",
        "- DEFCON 5 Normal peacetime readiness\n",
        "- DEFCON 4 Normal, increased intelligence and - strengthened security measures\n",
        "- DEFCON 3 Increase in force readiness above normal readiness\n",
        "- DEFCON 2 Further Increase in force readiness, but less than maximum readiness\n",
        "- DEFCON 1 Maximum force readiness.\n",
        "\n",
        "As part of this excercise we will use Deep learning to train our models on dataset which has all necessary features to predict the DEFCON level required at a particular instance. We will analyse the data, train models, test their accuracies, verify their predictions. Main objective of this would be to use all the concepts required for ensuring the model predicts with best accuracy as DEFCON a mission critical task.\n",
        "\n",
        "We will use the [DEFCON](https://github.com/Archandra12/Deeplearning-Project/blob/data/defcon_level.csv) Dataset and build a model to predict the DEFCON level for a given situation.\n",
        "\n"
      ]
    },
    {
      "cell_type": "markdown",
      "metadata": {
        "id": "FhDnt1nZPGcK"
      },
      "source": [
        "<center><img src=\"https://github.com/Archandra12/Deeplearning-Project/blob/images/DEFCON.jpg\" width=\"340\" height=\"80\" /></center>"
      ]
    },
    {
      "cell_type": "markdown",
      "metadata": {
        "id": "F_72b0LCNbjx"
      },
      "source": [
        "The DEFCON Dataset - Description\n",
        "\n",
        "| Column                     |Description        |\n",
        "| ---------------------------|--------------------------|\t\t\n",
        "|Allied_Nations|:The number of nations that have joined together as allies.|\n",
        "|Diplomatic_Meetings_Set|:The number of meetings with the intent to resolve the conflict that is planned.|\n",
        "|Percent_Of_Forces_Mobilized |:The percentage of forces mobilized.|\n",
        "|Hostile_Nations |:The number of enemy nations that have allied together.|\n",
        "|Active_Threats|:The number of situations or threats that require immediate attention.|\n",
        "|Inactive_Threats|:The number of situations or threats being monitored for activity or escalation.|\n",
        "|Citizen_Fear_Index|:The percentage of citizens who fear catastrophic military conflicts.|\n",
        "|Closest_Threat_Distance(km) |:The closest threat to the border of the country in question.|\n",
        "|Aircraft_Carriers_Responding|:The number of aircraft carriers actively traveling towards a threat to neutralize it.||\n",
        "|Troops_Mobilized(thousands)|:The number of troops that are activated and responding to the threats being the most.|\n",
        "|DEFCON_Level |:A numeric scale of conflict 'seriousness' with 1 being the least serious and 5 being the most. (**target variable**)|\n",
        "|ID|:An ID to aid a checker script.|\n"
      ]
    },
    {
      "cell_type": "markdown",
      "metadata": {
        "id": "36DEviu1Zo9a"
      },
      "source": [
        "<a id=section2></a>\n",
        "## 2. Exploratory Data Analysis"
      ]
    },
    {
      "cell_type": "markdown",
      "metadata": {
        "id": "DL9iMY5BZ5ww"
      },
      "source": [
        "<a id=section201></a>\n",
        "### 2.1 Setup the environment"
      ]
    },
    {
      "cell_type": "code",
      "metadata": {
        "id": "moB4tpEHxKB3",
        "colab": {
          "base_uri": "https://localhost:8080/",
          "height": 462
        },
        "outputId": "ae502014-9ecc-4d14-dae6-dd0a5bdcce96"
      },
      "source": [
        "# To use some functions from tensorflow_docs\n",
        "#!pip install git+https://github.com/tensorflow/docs"
      ],
      "execution_count": 7,
      "outputs": [
        {
          "output_type": "stream",
          "text": [
            "Collecting git+https://github.com/tensorflow/docs\n",
            "  Cloning https://github.com/tensorflow/docs to /tmp/pip-req-build-ikl3v7j3\n",
            "  Running command git clone -q https://github.com/tensorflow/docs /tmp/pip-req-build-ikl3v7j3\n",
            "Requirement already satisfied: astor in /usr/local/lib/python3.7/dist-packages (from tensorflow-docs===0.0.0bfd4a27c35dec4caf5446951e8ef0d3eb8687755-) (0.8.1)\n",
            "Requirement already satisfied: absl-py in /usr/local/lib/python3.7/dist-packages (from tensorflow-docs===0.0.0bfd4a27c35dec4caf5446951e8ef0d3eb8687755-) (0.12.0)\n",
            "Collecting protobuf>=3.14\n",
            "\u001b[?25l  Downloading https://files.pythonhosted.org/packages/7e/16/7ba9dc81212c0e3865c08dcc9170259bc4e624fda783926fb84ed609ea25/protobuf-3.17.0-cp37-cp37m-manylinux_2_5_x86_64.manylinux1_x86_64.whl (1.0MB)\n",
            "\u001b[K     |████████████████████████████████| 1.0MB 11.0MB/s \n",
            "\u001b[?25hRequirement already satisfied: pyyaml in /usr/local/lib/python3.7/dist-packages (from tensorflow-docs===0.0.0bfd4a27c35dec4caf5446951e8ef0d3eb8687755-) (3.13)\n",
            "Requirement already satisfied: six in /usr/local/lib/python3.7/dist-packages (from absl-py->tensorflow-docs===0.0.0bfd4a27c35dec4caf5446951e8ef0d3eb8687755-) (1.15.0)\n",
            "Building wheels for collected packages: tensorflow-docs\n",
            "  Building wheel for tensorflow-docs (setup.py) ... \u001b[?25l\u001b[?25hdone\n",
            "  Created wheel for tensorflow-docs: filename=tensorflow_docs-0.0.0bfd4a27c35dec4caf5446951e8ef0d3eb8687755_-cp37-none-any.whl size=151172 sha256=f83c9cd2b7cafa9afaaa93138e9fef1ede97cca16004cca4dabbea87e8dd5c5f\n",
            "  Stored in directory: /tmp/pip-ephem-wheel-cache-98r6sph4/wheels/eb/1b/35/fce87697be00d2fc63e0b4b395b0d9c7e391a10e98d9a0d97f\n",
            "Successfully built tensorflow-docs\n",
            "Installing collected packages: protobuf, tensorflow-docs\n",
            "  Found existing installation: protobuf 3.12.4\n",
            "    Uninstalling protobuf-3.12.4:\n",
            "      Successfully uninstalled protobuf-3.12.4\n",
            "Successfully installed protobuf-3.17.0 tensorflow-docs-0.0.0bfd4a27c35dec4caf5446951e8ef0d3eb8687755-\n"
          ],
          "name": "stdout"
        },
        {
          "output_type": "display_data",
          "data": {
            "application/vnd.colab-display-data+json": {
              "pip_warning": {
                "packages": [
                  "google"
                ]
              }
            }
          },
          "metadata": {
            "tags": []
          }
        }
      ]
    },
    {
      "cell_type": "code",
      "metadata": {
        "colab": {
          "base_uri": "https://localhost:8080/"
        },
        "id": "de1Of-nqaljQ",
        "outputId": "d3d5f62a-3f7d-475b-db6a-0c66d35d6ff0"
      },
      "source": [
        "#!pip install keras-tuner"
      ],
      "execution_count": 1,
      "outputs": [
        {
          "output_type": "stream",
          "text": [
            "Collecting keras-tuner\n",
            "\u001b[?25l  Downloading https://files.pythonhosted.org/packages/20/ec/1ef246787174b1e2bb591c95f29d3c1310070cad877824f907faba3dade9/keras-tuner-1.0.2.tar.gz (62kB)\n",
            "\r\u001b[K     |█████▏                          | 10kB 15.1MB/s eta 0:00:01\r\u001b[K     |██████████▍                     | 20kB 22.9MB/s eta 0:00:01\r\u001b[K     |███████████████▋                | 30kB 27.3MB/s eta 0:00:01\r\u001b[K     |████████████████████▉           | 40kB 31.5MB/s eta 0:00:01\r\u001b[K     |██████████████████████████      | 51kB 13.1MB/s eta 0:00:01\r\u001b[K     |███████████████████████████████▎| 61kB 10.7MB/s eta 0:00:01\r\u001b[K     |████████████████████████████████| 71kB 3.3MB/s \n",
            "\u001b[?25hRequirement already satisfied: packaging in /usr/local/lib/python3.7/dist-packages (from keras-tuner) (20.9)\n",
            "Requirement already satisfied: future in /usr/local/lib/python3.7/dist-packages (from keras-tuner) (0.16.0)\n",
            "Requirement already satisfied: numpy in /usr/local/lib/python3.7/dist-packages (from keras-tuner) (1.19.5)\n",
            "Requirement already satisfied: tabulate in /usr/local/lib/python3.7/dist-packages (from keras-tuner) (0.8.9)\n",
            "Collecting terminaltables\n",
            "  Downloading https://files.pythonhosted.org/packages/9b/c4/4a21174f32f8a7e1104798c445dacdc1d4df86f2f26722767034e4de4bff/terminaltables-3.1.0.tar.gz\n",
            "Collecting colorama\n",
            "  Downloading https://files.pythonhosted.org/packages/44/98/5b86278fbbf250d239ae0ecb724f8572af1c91f4a11edf4d36a206189440/colorama-0.4.4-py2.py3-none-any.whl\n",
            "Requirement already satisfied: tqdm in /usr/local/lib/python3.7/dist-packages (from keras-tuner) (4.41.1)\n",
            "Requirement already satisfied: requests in /usr/local/lib/python3.7/dist-packages (from keras-tuner) (2.23.0)\n",
            "Requirement already satisfied: scipy in /usr/local/lib/python3.7/dist-packages (from keras-tuner) (1.4.1)\n",
            "Requirement already satisfied: scikit-learn in /usr/local/lib/python3.7/dist-packages (from keras-tuner) (0.22.2.post1)\n",
            "Requirement already satisfied: pyparsing>=2.0.2 in /usr/local/lib/python3.7/dist-packages (from packaging->keras-tuner) (2.4.7)\n",
            "Requirement already satisfied: certifi>=2017.4.17 in /usr/local/lib/python3.7/dist-packages (from requests->keras-tuner) (2020.12.5)\n",
            "Requirement already satisfied: urllib3!=1.25.0,!=1.25.1,<1.26,>=1.21.1 in /usr/local/lib/python3.7/dist-packages (from requests->keras-tuner) (1.24.3)\n",
            "Requirement already satisfied: idna<3,>=2.5 in /usr/local/lib/python3.7/dist-packages (from requests->keras-tuner) (2.10)\n",
            "Requirement already satisfied: chardet<4,>=3.0.2 in /usr/local/lib/python3.7/dist-packages (from requests->keras-tuner) (3.0.4)\n",
            "Requirement already satisfied: joblib>=0.11 in /usr/local/lib/python3.7/dist-packages (from scikit-learn->keras-tuner) (1.0.1)\n",
            "Building wheels for collected packages: keras-tuner, terminaltables\n",
            "  Building wheel for keras-tuner (setup.py) ... \u001b[?25l\u001b[?25hdone\n",
            "  Created wheel for keras-tuner: filename=keras_tuner-1.0.2-cp37-none-any.whl size=78938 sha256=f401d28fe1e8a25e20c8ba32916995b1839e4bf257be0dc7eafcb1af29c6108f\n",
            "  Stored in directory: /root/.cache/pip/wheels/bb/a1/8a/7c3de0efb3707a1701b36ebbfdbc4e67aedf6d4943a1f463d6\n",
            "  Building wheel for terminaltables (setup.py) ... \u001b[?25l\u001b[?25hdone\n",
            "  Created wheel for terminaltables: filename=terminaltables-3.1.0-cp37-none-any.whl size=15356 sha256=fd120003bbf5dbc83d475f7871d7479bd8dbb4609afe54e8383273cfd5a0b59f\n",
            "  Stored in directory: /root/.cache/pip/wheels/30/6b/50/6c75775b681fb36cdfac7f19799888ef9d8813aff9e379663e\n",
            "Successfully built keras-tuner terminaltables\n",
            "Installing collected packages: terminaltables, colorama, keras-tuner\n",
            "Successfully installed colorama-0.4.4 keras-tuner-1.0.2 terminaltables-3.1.0\n"
          ],
          "name": "stdout"
        }
      ]
    },
    {
      "cell_type": "code",
      "metadata": {
        "colab": {
          "base_uri": "https://localhost:8080/"
        },
        "id": "D2mqygMcavt6",
        "outputId": "64ccc1b4-0763-4049-eccf-2b30f0c2c8e1"
      },
      "source": [
        "import tensorflow as tf\n",
        "import kerastuner as kt\n",
        "\n",
        "print(tf.__version__)\n",
        "print(kt.__version__)"
      ],
      "execution_count": 2,
      "outputs": [
        {
          "output_type": "stream",
          "text": [
            "2.4.1\n",
            "1.0.2\n"
          ],
          "name": "stdout"
        }
      ]
    },
    {
      "cell_type": "code",
      "metadata": {
        "id": "1rRo8oNqZ-Rj"
      },
      "source": [
        "import pathlib\n",
        "\n",
        "import numpy as np\n",
        "import pandas as pd\n",
        "\n",
        "import matplotlib.pyplot as plt\n",
        "%matplotlib inline\n",
        "\n",
        "import seaborn as sns"
      ],
      "execution_count": 3,
      "outputs": []
    },
    {
      "cell_type": "code",
      "metadata": {
        "id": "OU_nxQFGP98H"
      },
      "source": [
        "# Import tensorflow 2.x\n",
        "# This code block will only work in Google Colab.\n",
        "try:\n",
        "    # %tensorflow_version only exists in Colab.\n",
        "    %tensorflow_version 2.x\n",
        "except Exception:\n",
        "    pass"
      ],
      "execution_count": 5,
      "outputs": []
    },
    {
      "cell_type": "code",
      "metadata": {
        "id": "9xQKvCJ85kCQ",
        "colab": {
          "base_uri": "https://localhost:8080/"
        },
        "outputId": "c6356156-1f05-4786-f71d-f4c6b0102759"
      },
      "source": [
        "import tensorflow as tf\n",
        "\n",
        "from tensorflow import keras\n",
        "from tensorflow.keras import layers\n",
        "\n",
        "print(tf.__version__)"
      ],
      "execution_count": 6,
      "outputs": [
        {
          "output_type": "stream",
          "text": [
            "2.4.1\n"
          ],
          "name": "stdout"
        }
      ]
    },
    {
      "cell_type": "code",
      "metadata": {
        "id": "Qz4HfsgRQUiV"
      },
      "source": [
        "import tensorflow_docs as tfdocs\n",
        "import tensorflow_docs.plots\n",
        "import tensorflow_docs.modeling"
      ],
      "execution_count": 7,
      "outputs": []
    },
    {
      "cell_type": "code",
      "metadata": {
        "id": "aFXq4V_pa5_N"
      },
      "source": [
        "from sklearn.preprocessing import StandardScaler\n",
        "from tensorflow.keras import models, layers\n",
        "from kerastuner import HyperModel, RandomSearch, Hyperband, BayesianOptimization\n",
        "from tensorflow.keras.models import Sequential\n",
        "from tensorflow.keras.layers import Dense, Conv2D, MaxPool2D, BatchNormalization, Dropout, Flatten, LeakyReLU\n",
        "from keras.callbacks import EarlyStopping"
      ],
      "execution_count": 8,
      "outputs": []
    },
    {
      "cell_type": "markdown",
      "metadata": {
        "id": "gFh9ne3FZ-On"
      },
      "source": [
        "<a id=section202></a>\n",
        "### 2.2 Get the Data\n",
        "\n",
        "- Load data using Pandas Dataframe"
      ]
    },
    {
      "cell_type": "code",
      "metadata": {
        "id": "p9kxxgzvzlyz"
      },
      "source": [
        "dataset_path = 'https://raw.githubusercontent.com/Archandra12/Deeplearning-Project/data/defcon_level.csv'"
      ],
      "execution_count": 12,
      "outputs": []
    },
    {
      "cell_type": "code",
      "metadata": {
        "id": "CiX2FI4gZtTt",
        "colab": {
          "base_uri": "https://localhost:8080/",
          "height": 224
        },
        "outputId": "7e2ec61b-9c72-4f09-9480-57e81dfa3635"
      },
      "source": [
        "dataset = pd.read_csv(dataset_path)\n",
        "dataset.head()"
      ],
      "execution_count": 13,
      "outputs": [
        {
          "output_type": "execute_result",
          "data": {
            "text/html": [
              "<div>\n",
              "<style scoped>\n",
              "    .dataframe tbody tr th:only-of-type {\n",
              "        vertical-align: middle;\n",
              "    }\n",
              "\n",
              "    .dataframe tbody tr th {\n",
              "        vertical-align: top;\n",
              "    }\n",
              "\n",
              "    .dataframe thead th {\n",
              "        text-align: right;\n",
              "    }\n",
              "</style>\n",
              "<table border=\"1\" class=\"dataframe\">\n",
              "  <thead>\n",
              "    <tr style=\"text-align: right;\">\n",
              "      <th></th>\n",
              "      <th>Allied_Nations</th>\n",
              "      <th>Diplomatic_Meetings_Set</th>\n",
              "      <th>Percent_Of_Forces_Mobilized</th>\n",
              "      <th>Hostile_Nations</th>\n",
              "      <th>Active_Threats</th>\n",
              "      <th>Inactive_Threats</th>\n",
              "      <th>Citizen_Fear_Index</th>\n",
              "      <th>Closest_Threat_Distance(km)</th>\n",
              "      <th>Aircraft_Carriers_Responding</th>\n",
              "      <th>Troops_Mobilized(thousands)</th>\n",
              "      <th>DEFCON_Level</th>\n",
              "      <th>ID</th>\n",
              "    </tr>\n",
              "  </thead>\n",
              "  <tbody>\n",
              "    <tr>\n",
              "      <th>0</th>\n",
              "      <td>16</td>\n",
              "      <td>1</td>\n",
              "      <td>0.67</td>\n",
              "      <td>3</td>\n",
              "      <td>6.0</td>\n",
              "      <td>25.0</td>\n",
              "      <td>0.787812</td>\n",
              "      <td>324.36</td>\n",
              "      <td>1</td>\n",
              "      <td>862400.0</td>\n",
              "      <td>3</td>\n",
              "      <td>7570</td>\n",
              "    </tr>\n",
              "    <tr>\n",
              "      <th>1</th>\n",
              "      <td>8</td>\n",
              "      <td>1</td>\n",
              "      <td>0.11</td>\n",
              "      <td>2</td>\n",
              "      <td>38.0</td>\n",
              "      <td>48.0</td>\n",
              "      <td>0.419236</td>\n",
              "      <td>359.34</td>\n",
              "      <td>0</td>\n",
              "      <td>959200.0</td>\n",
              "      <td>4</td>\n",
              "      <td>12128</td>\n",
              "    </tr>\n",
              "    <tr>\n",
              "      <th>2</th>\n",
              "      <td>9</td>\n",
              "      <td>1</td>\n",
              "      <td>0.49</td>\n",
              "      <td>3</td>\n",
              "      <td>32.0</td>\n",
              "      <td>69.0</td>\n",
              "      <td>0.582232</td>\n",
              "      <td>332.84</td>\n",
              "      <td>1</td>\n",
              "      <td>836000.0</td>\n",
              "      <td>3</td>\n",
              "      <td>2181</td>\n",
              "    </tr>\n",
              "    <tr>\n",
              "      <th>3</th>\n",
              "      <td>7</td>\n",
              "      <td>0</td>\n",
              "      <td>0.30</td>\n",
              "      <td>2</td>\n",
              "      <td>31.0</td>\n",
              "      <td>52.0</td>\n",
              "      <td>0.589574</td>\n",
              "      <td>358.28</td>\n",
              "      <td>1</td>\n",
              "      <td>924000.0</td>\n",
              "      <td>3</td>\n",
              "      <td>5946</td>\n",
              "    </tr>\n",
              "    <tr>\n",
              "      <th>4</th>\n",
              "      <td>8</td>\n",
              "      <td>1</td>\n",
              "      <td>0.12</td>\n",
              "      <td>5</td>\n",
              "      <td>13.0</td>\n",
              "      <td>42.0</td>\n",
              "      <td>0.552863</td>\n",
              "      <td>364.64</td>\n",
              "      <td>0</td>\n",
              "      <td>968000.0</td>\n",
              "      <td>2</td>\n",
              "      <td>9054</td>\n",
              "    </tr>\n",
              "  </tbody>\n",
              "</table>\n",
              "</div>"
            ],
            "text/plain": [
              "   Allied_Nations  Diplomatic_Meetings_Set  ...  DEFCON_Level     ID\n",
              "0              16                        1  ...             3   7570\n",
              "1               8                        1  ...             4  12128\n",
              "2               9                        1  ...             3   2181\n",
              "3               7                        0  ...             3   5946\n",
              "4               8                        1  ...             2   9054\n",
              "\n",
              "[5 rows x 12 columns]"
            ]
          },
          "metadata": {
            "tags": []
          },
          "execution_count": 13
        }
      ]
    },
    {
      "cell_type": "markdown",
      "metadata": {
        "id": "n6bX_DVuQmnV"
      },
      "source": [
        "- We have a multiclass target variable in our dataset"
      ]
    },
    {
      "cell_type": "markdown",
      "metadata": {
        "id": "3MWuJTKEDM-f"
      },
      "source": [
        "<a id=section202></a>\n",
        "### 2.2 Clean the Data\n",
        "\n",
        "- The dataset contains a few unknown values."
      ]
    },
    {
      "cell_type": "code",
      "metadata": {
        "id": "JEJHhN65a2VV",
        "colab": {
          "base_uri": "https://localhost:8080/"
        },
        "outputId": "e85e12f6-d8dc-4f80-daf5-abea675071e1"
      },
      "source": [
        "dataset.isna().sum()"
      ],
      "execution_count": null,
      "outputs": [
        {
          "output_type": "execute_result",
          "data": {
            "text/plain": [
              "MPG             0\n",
              "Cylinders       0\n",
              "Displacement    0\n",
              "Horsepower      6\n",
              "Weight          0\n",
              "Acceleration    0\n",
              "Model Year      0\n",
              "Origin          0\n",
              "dtype: int64"
            ]
          },
          "metadata": {
            "tags": []
          },
          "execution_count": 20
        }
      ]
    },
    {
      "cell_type": "markdown",
      "metadata": {
        "id": "9UPN0KBHa_WI"
      },
      "source": [
        "- Dropping these rows."
      ]
    },
    {
      "cell_type": "code",
      "metadata": {
        "id": "4ZUDosChC1UN"
      },
      "source": [
        "dataset = dataset.dropna()"
      ],
      "execution_count": null,
      "outputs": []
    },
    {
      "cell_type": "markdown",
      "metadata": {
        "id": "8XKitwaH4v8h"
      },
      "source": [
        "- The `\"Origin\"` column is categorical, not numeric.\n",
        "\n",
        "- Converting that to a one-hot:"
      ]
    },
    {
      "cell_type": "code",
      "metadata": {
        "id": "gWNTD2QjBWFJ"
      },
      "source": [
        "dataset['Origin'] = dataset['Origin'].map({1: 'USA', 2: 'Europe', 3: 'Japan'})"
      ],
      "execution_count": null,
      "outputs": []
    },
    {
      "cell_type": "code",
      "metadata": {
        "id": "ulXz4J7PAUzk",
        "colab": {
          "base_uri": "https://localhost:8080/",
          "height": 202
        },
        "outputId": "ebc8c4dc-bc90-4c83-e7e5-e5082ca08b36"
      },
      "source": [
        "dataset = pd.get_dummies(dataset, prefix='', prefix_sep='')\n",
        "dataset.tail()"
      ],
      "execution_count": null,
      "outputs": [
        {
          "output_type": "execute_result",
          "data": {
            "text/html": [
              "<div>\n",
              "<style scoped>\n",
              "    .dataframe tbody tr th:only-of-type {\n",
              "        vertical-align: middle;\n",
              "    }\n",
              "\n",
              "    .dataframe tbody tr th {\n",
              "        vertical-align: top;\n",
              "    }\n",
              "\n",
              "    .dataframe thead th {\n",
              "        text-align: right;\n",
              "    }\n",
              "</style>\n",
              "<table border=\"1\" class=\"dataframe\">\n",
              "  <thead>\n",
              "    <tr style=\"text-align: right;\">\n",
              "      <th></th>\n",
              "      <th>MPG</th>\n",
              "      <th>Cylinders</th>\n",
              "      <th>Displacement</th>\n",
              "      <th>Horsepower</th>\n",
              "      <th>Weight</th>\n",
              "      <th>Acceleration</th>\n",
              "      <th>Model Year</th>\n",
              "      <th>Europe</th>\n",
              "      <th>Japan</th>\n",
              "      <th>USA</th>\n",
              "    </tr>\n",
              "  </thead>\n",
              "  <tbody>\n",
              "    <tr>\n",
              "      <th>393</th>\n",
              "      <td>27.0</td>\n",
              "      <td>4</td>\n",
              "      <td>140.0</td>\n",
              "      <td>86.0</td>\n",
              "      <td>2790.0</td>\n",
              "      <td>15.6</td>\n",
              "      <td>82</td>\n",
              "      <td>0</td>\n",
              "      <td>0</td>\n",
              "      <td>1</td>\n",
              "    </tr>\n",
              "    <tr>\n",
              "      <th>394</th>\n",
              "      <td>44.0</td>\n",
              "      <td>4</td>\n",
              "      <td>97.0</td>\n",
              "      <td>52.0</td>\n",
              "      <td>2130.0</td>\n",
              "      <td>24.6</td>\n",
              "      <td>82</td>\n",
              "      <td>1</td>\n",
              "      <td>0</td>\n",
              "      <td>0</td>\n",
              "    </tr>\n",
              "    <tr>\n",
              "      <th>395</th>\n",
              "      <td>32.0</td>\n",
              "      <td>4</td>\n",
              "      <td>135.0</td>\n",
              "      <td>84.0</td>\n",
              "      <td>2295.0</td>\n",
              "      <td>11.6</td>\n",
              "      <td>82</td>\n",
              "      <td>0</td>\n",
              "      <td>0</td>\n",
              "      <td>1</td>\n",
              "    </tr>\n",
              "    <tr>\n",
              "      <th>396</th>\n",
              "      <td>28.0</td>\n",
              "      <td>4</td>\n",
              "      <td>120.0</td>\n",
              "      <td>79.0</td>\n",
              "      <td>2625.0</td>\n",
              "      <td>18.6</td>\n",
              "      <td>82</td>\n",
              "      <td>0</td>\n",
              "      <td>0</td>\n",
              "      <td>1</td>\n",
              "    </tr>\n",
              "    <tr>\n",
              "      <th>397</th>\n",
              "      <td>31.0</td>\n",
              "      <td>4</td>\n",
              "      <td>119.0</td>\n",
              "      <td>82.0</td>\n",
              "      <td>2720.0</td>\n",
              "      <td>19.4</td>\n",
              "      <td>82</td>\n",
              "      <td>0</td>\n",
              "      <td>0</td>\n",
              "      <td>1</td>\n",
              "    </tr>\n",
              "  </tbody>\n",
              "</table>\n",
              "</div>"
            ],
            "text/plain": [
              "      MPG  Cylinders  Displacement  Horsepower  ...  Model Year  Europe  Japan  USA\n",
              "393  27.0          4         140.0        86.0  ...          82       0      0    1\n",
              "394  44.0          4          97.0        52.0  ...          82       1      0    0\n",
              "395  32.0          4         135.0        84.0  ...          82       0      0    1\n",
              "396  28.0          4         120.0        79.0  ...          82       0      0    1\n",
              "397  31.0          4         119.0        82.0  ...          82       0      0    1\n",
              "\n",
              "[5 rows x 10 columns]"
            ]
          },
          "metadata": {
            "tags": []
          },
          "execution_count": 23
        }
      ]
    },
    {
      "cell_type": "markdown",
      "metadata": {
        "id": "Cuym4yvk76vU"
      },
      "source": [
        "<a id=section203></a>\n",
        "### 2.3 Split the Data into Train and Test\n",
        "\n",
        "- Now we will split the dataset into a training set and a test set.\n",
        "\n",
        "- We will use the test set in the final evaluation of our model."
      ]
    },
    {
      "cell_type": "code",
      "metadata": {
        "id": "qn-IGhUE7_1H"
      },
      "source": [
        "train_dataset = dataset.sample(frac=0.8,random_state=0)"
      ],
      "execution_count": null,
      "outputs": []
    },
    {
      "cell_type": "code",
      "metadata": {
        "id": "JojFa3DRfHIz"
      },
      "source": [
        "test_dataset = dataset.drop(train_dataset.index)"
      ],
      "execution_count": null,
      "outputs": []
    },
    {
      "cell_type": "markdown",
      "metadata": {
        "id": "J4ubs136WLNp"
      },
      "source": [
        "<a id=section204></a>\n",
        "### 2.4 Inspect the Data\n",
        "\n",
        "- We will have a quick look at the joint distribution of a few pairs of columns from the training set."
      ]
    },
    {
      "cell_type": "code",
      "metadata": {
        "id": "oRKO_x8gWKv-",
        "colab": {
          "base_uri": "https://localhost:8080/",
          "height": 743
        },
        "outputId": "6a830415-f7a0-498b-be01-9bb36e67b421"
      },
      "source": [
        "sns.pairplot(train_dataset[[\"MPG\", \"Cylinders\", \"Displacement\", \"Weight\"]], diag_kind=\"kde\")"
      ],
      "execution_count": null,
      "outputs": [
        {
          "output_type": "execute_result",
          "data": {
            "text/plain": [
              "<seaborn.axisgrid.PairGrid at 0x7f7edbf330d0>"
            ]
          },
          "metadata": {
            "tags": []
          },
          "execution_count": 26
        },
        {
          "output_type": "display_data",
          "data": {
            "image/png": "[encoded data removed]",
            "text/plain": [
              "<Figure size 720x720 with 20 Axes>"
            ]
          },
          "metadata": {
            "tags": [],
            "needs_background": "light"
          }
        }
      ]
    },
    {
      "cell_type": "markdown",
      "metadata": {
        "id": "gavKO_6DWRMP"
      },
      "source": [
        "- Let's also look at the overall statistics:"
      ]
    },
    {
      "cell_type": "code",
      "metadata": {
        "id": "yi2FzC3T21jR",
        "colab": {
          "base_uri": "https://localhost:8080/",
          "height": 325
        },
        "outputId": "b67f6fc9-6aec-4a06-fae4-a3c34327ec1d"
      },
      "source": [
        "train_stats = train_dataset.describe()\n",
        "#train_stats.pop(\"MPG\")\n",
        "train_stats = train_stats.transpose()\n",
        "train_stats"
      ],
      "execution_count": null,
      "outputs": [
        {
          "output_type": "execute_result",
          "data": {
            "text/html": [
              "<div>\n",
              "<style scoped>\n",
              "    .dataframe tbody tr th:only-of-type {\n",
              "        vertical-align: middle;\n",
              "    }\n",
              "\n",
              "    .dataframe tbody tr th {\n",
              "        vertical-align: top;\n",
              "    }\n",
              "\n",
              "    .dataframe thead th {\n",
              "        text-align: right;\n",
              "    }\n",
              "</style>\n",
              "<table border=\"1\" class=\"dataframe\">\n",
              "  <thead>\n",
              "    <tr style=\"text-align: right;\">\n",
              "      <th></th>\n",
              "      <th>count</th>\n",
              "      <th>mean</th>\n",
              "      <th>std</th>\n",
              "      <th>min</th>\n",
              "      <th>25%</th>\n",
              "      <th>50%</th>\n",
              "      <th>75%</th>\n",
              "      <th>max</th>\n",
              "    </tr>\n",
              "  </thead>\n",
              "  <tbody>\n",
              "    <tr>\n",
              "      <th>Cylinders</th>\n",
              "      <td>314.0</td>\n",
              "      <td>5.477707</td>\n",
              "      <td>1.699788</td>\n",
              "      <td>3.0</td>\n",
              "      <td>4.00</td>\n",
              "      <td>4.0</td>\n",
              "      <td>8.00</td>\n",
              "      <td>8.0</td>\n",
              "    </tr>\n",
              "    <tr>\n",
              "      <th>Displacement</th>\n",
              "      <td>314.0</td>\n",
              "      <td>195.318471</td>\n",
              "      <td>104.331589</td>\n",
              "      <td>68.0</td>\n",
              "      <td>105.50</td>\n",
              "      <td>151.0</td>\n",
              "      <td>265.75</td>\n",
              "      <td>455.0</td>\n",
              "    </tr>\n",
              "    <tr>\n",
              "      <th>Horsepower</th>\n",
              "      <td>314.0</td>\n",
              "      <td>104.869427</td>\n",
              "      <td>38.096214</td>\n",
              "      <td>46.0</td>\n",
              "      <td>76.25</td>\n",
              "      <td>94.5</td>\n",
              "      <td>128.00</td>\n",
              "      <td>225.0</td>\n",
              "    </tr>\n",
              "    <tr>\n",
              "      <th>Weight</th>\n",
              "      <td>314.0</td>\n",
              "      <td>2990.251592</td>\n",
              "      <td>843.898596</td>\n",
              "      <td>1649.0</td>\n",
              "      <td>2256.50</td>\n",
              "      <td>2822.5</td>\n",
              "      <td>3608.00</td>\n",
              "      <td>5140.0</td>\n",
              "    </tr>\n",
              "    <tr>\n",
              "      <th>Acceleration</th>\n",
              "      <td>314.0</td>\n",
              "      <td>15.559236</td>\n",
              "      <td>2.789230</td>\n",
              "      <td>8.0</td>\n",
              "      <td>13.80</td>\n",
              "      <td>15.5</td>\n",
              "      <td>17.20</td>\n",
              "      <td>24.8</td>\n",
              "    </tr>\n",
              "    <tr>\n",
              "      <th>Model Year</th>\n",
              "      <td>314.0</td>\n",
              "      <td>75.898089</td>\n",
              "      <td>3.675642</td>\n",
              "      <td>70.0</td>\n",
              "      <td>73.00</td>\n",
              "      <td>76.0</td>\n",
              "      <td>79.00</td>\n",
              "      <td>82.0</td>\n",
              "    </tr>\n",
              "    <tr>\n",
              "      <th>Europe</th>\n",
              "      <td>314.0</td>\n",
              "      <td>0.178344</td>\n",
              "      <td>0.383413</td>\n",
              "      <td>0.0</td>\n",
              "      <td>0.00</td>\n",
              "      <td>0.0</td>\n",
              "      <td>0.00</td>\n",
              "      <td>1.0</td>\n",
              "    </tr>\n",
              "    <tr>\n",
              "      <th>Japan</th>\n",
              "      <td>314.0</td>\n",
              "      <td>0.197452</td>\n",
              "      <td>0.398712</td>\n",
              "      <td>0.0</td>\n",
              "      <td>0.00</td>\n",
              "      <td>0.0</td>\n",
              "      <td>0.00</td>\n",
              "      <td>1.0</td>\n",
              "    </tr>\n",
              "    <tr>\n",
              "      <th>USA</th>\n",
              "      <td>314.0</td>\n",
              "      <td>0.624204</td>\n",
              "      <td>0.485101</td>\n",
              "      <td>0.0</td>\n",
              "      <td>0.00</td>\n",
              "      <td>1.0</td>\n",
              "      <td>1.00</td>\n",
              "      <td>1.0</td>\n",
              "    </tr>\n",
              "  </tbody>\n",
              "</table>\n",
              "</div>"
            ],
            "text/plain": [
              "              count         mean         std  ...     50%      75%     max\n",
              "Cylinders     314.0     5.477707    1.699788  ...     4.0     8.00     8.0\n",
              "Displacement  314.0   195.318471  104.331589  ...   151.0   265.75   455.0\n",
              "Horsepower    314.0   104.869427   38.096214  ...    94.5   128.00   225.0\n",
              "Weight        314.0  2990.251592  843.898596  ...  2822.5  3608.00  5140.0\n",
              "Acceleration  314.0    15.559236    2.789230  ...    15.5    17.20    24.8\n",
              "Model Year    314.0    75.898089    3.675642  ...    76.0    79.00    82.0\n",
              "Europe        314.0     0.178344    0.383413  ...     0.0     0.00     1.0\n",
              "Japan         314.0     0.197452    0.398712  ...     0.0     0.00     1.0\n",
              "USA           314.0     0.624204    0.485101  ...     1.0     1.00     1.0\n",
              "\n",
              "[9 rows x 8 columns]"
            ]
          },
          "metadata": {
            "tags": []
          },
          "execution_count": 40
        }
      ]
    },
    {
      "cell_type": "code",
      "metadata": {
        "colab": {
          "base_uri": "https://localhost:8080/"
        },
        "id": "N-_4bnG49u73",
        "outputId": "1e9ed03e-538d-4d05-b383-e3a1b4c8b358"
      },
      "source": [
        "train_stats['mean']"
      ],
      "execution_count": null,
      "outputs": [
        {
          "output_type": "execute_result",
          "data": {
            "text/plain": [
              "Cylinders          5.477707\n",
              "Displacement     195.318471\n",
              "Horsepower       104.869427\n",
              "Weight          2990.251592\n",
              "Acceleration      15.559236\n",
              "Model Year        75.898089\n",
              "Europe             0.178344\n",
              "Japan              0.197452\n",
              "USA                0.624204\n",
              "Name: mean, dtype: float64"
            ]
          },
          "metadata": {
            "tags": []
          },
          "execution_count": 41
        }
      ]
    },
    {
      "cell_type": "markdown",
      "metadata": {
        "id": "Db7Auq1yXUvh"
      },
      "source": [
        "<a id=section205></a>\n",
        "### 2.5 Split Features from Labels\n",
        "\n",
        "- Separate the target value, or \"label\", from the features.\n",
        "\n",
        "- This label is the value that we will train the model to predict."
      ]
    },
    {
      "cell_type": "code",
      "metadata": {
        "id": "t2sluJdCW7jN"
      },
      "source": [
        "train_labels = train_dataset.pop('MPG')"
      ],
      "execution_count": null,
      "outputs": []
    },
    {
      "cell_type": "code",
      "metadata": {
        "id": "uTgQXb1Afksb"
      },
      "source": [
        "test_labels = test_dataset.pop('MPG')"
      ],
      "execution_count": null,
      "outputs": []
    },
    {
      "cell_type": "markdown",
      "metadata": {
        "id": "mRklxK5s388r"
      },
      "source": [
        "<a id=section206></a>\n",
        "### 2.6 Normalize the Data\n",
        "\n",
        "- Look again at the `train_stats` block above and note how different the ranges of each feature are."
      ]
    },
    {
      "cell_type": "markdown",
      "metadata": {
        "id": "-ywmerQ6dSox"
      },
      "source": [
        "- It is good practice to normalize features that use different scales and ranges.\n",
        "\n",
        "- Although the model *might* converge without feature normalization, it makes training more difficult, and it makes the resulting model dependent on the choice of units used in the input.\n",
        "\n",
        "- **Note**: Although we intentionally generate these statistics from only the training dataset, these statistics will also be used to normalize the test dataset.\n",
        "\n",
        "  - We need to do that to project the test dataset into the same distribution that the model has been trained on."
      ]
    },
    {
      "cell_type": "code",
      "metadata": {
        "id": "JlC5ooJrgjQF"
      },
      "source": [
        "def norm(x):\n",
        "  return (x - train_stats['mean']) / train_stats['std']"
      ],
      "execution_count": null,
      "outputs": []
    },
    {
      "cell_type": "code",
      "metadata": {
        "colab": {
          "base_uri": "https://localhost:8080/",
          "height": 331
        },
        "id": "SkDsN5K074eC",
        "outputId": "b42dacaa-097f-4b2e-ef52-1b6724ccc434"
      },
      "source": [
        "train_stats"
      ],
      "execution_count": null,
      "outputs": [
        {
          "output_type": "execute_result",
          "data": {
            "text/html": [
              "<div>\n",
              "<style scoped>\n",
              "    .dataframe tbody tr th:only-of-type {\n",
              "        vertical-align: middle;\n",
              "    }\n",
              "\n",
              "    .dataframe tbody tr th {\n",
              "        vertical-align: top;\n",
              "    }\n",
              "\n",
              "    .dataframe thead th {\n",
              "        text-align: right;\n",
              "    }\n",
              "</style>\n",
              "<table border=\"1\" class=\"dataframe\">\n",
              "  <thead>\n",
              "    <tr style=\"text-align: right;\">\n",
              "      <th></th>\n",
              "      <th>Cylinders</th>\n",
              "      <th>Displacement</th>\n",
              "      <th>Horsepower</th>\n",
              "      <th>Weight</th>\n",
              "      <th>Acceleration</th>\n",
              "      <th>Model Year</th>\n",
              "      <th>Europe</th>\n",
              "      <th>Japan</th>\n",
              "      <th>USA</th>\n",
              "    </tr>\n",
              "  </thead>\n",
              "  <tbody>\n",
              "    <tr>\n",
              "      <th>count</th>\n",
              "      <td>314.000000</td>\n",
              "      <td>314.000000</td>\n",
              "      <td>314.000000</td>\n",
              "      <td>314.000000</td>\n",
              "      <td>314.000000</td>\n",
              "      <td>314.000000</td>\n",
              "      <td>314.000000</td>\n",
              "      <td>314.000000</td>\n",
              "      <td>314.000000</td>\n",
              "    </tr>\n",
              "    <tr>\n",
              "      <th>mean</th>\n",
              "      <td>5.477707</td>\n",
              "      <td>195.318471</td>\n",
              "      <td>104.869427</td>\n",
              "      <td>2990.251592</td>\n",
              "      <td>15.559236</td>\n",
              "      <td>75.898089</td>\n",
              "      <td>0.178344</td>\n",
              "      <td>0.197452</td>\n",
              "      <td>0.624204</td>\n",
              "    </tr>\n",
              "    <tr>\n",
              "      <th>std</th>\n",
              "      <td>1.699788</td>\n",
              "      <td>104.331589</td>\n",
              "      <td>38.096214</td>\n",
              "      <td>843.898596</td>\n",
              "      <td>2.789230</td>\n",
              "      <td>3.675642</td>\n",
              "      <td>0.383413</td>\n",
              "      <td>0.398712</td>\n",
              "      <td>0.485101</td>\n",
              "    </tr>\n",
              "    <tr>\n",
              "      <th>min</th>\n",
              "      <td>3.000000</td>\n",
              "      <td>68.000000</td>\n",
              "      <td>46.000000</td>\n",
              "      <td>1649.000000</td>\n",
              "      <td>8.000000</td>\n",
              "      <td>70.000000</td>\n",
              "      <td>0.000000</td>\n",
              "      <td>0.000000</td>\n",
              "      <td>0.000000</td>\n",
              "    </tr>\n",
              "    <tr>\n",
              "      <th>25%</th>\n",
              "      <td>4.000000</td>\n",
              "      <td>105.500000</td>\n",
              "      <td>76.250000</td>\n",
              "      <td>2256.500000</td>\n",
              "      <td>13.800000</td>\n",
              "      <td>73.000000</td>\n",
              "      <td>0.000000</td>\n",
              "      <td>0.000000</td>\n",
              "      <td>0.000000</td>\n",
              "    </tr>\n",
              "    <tr>\n",
              "      <th>50%</th>\n",
              "      <td>4.000000</td>\n",
              "      <td>151.000000</td>\n",
              "      <td>94.500000</td>\n",
              "      <td>2822.500000</td>\n",
              "      <td>15.500000</td>\n",
              "      <td>76.000000</td>\n",
              "      <td>0.000000</td>\n",
              "      <td>0.000000</td>\n",
              "      <td>1.000000</td>\n",
              "    </tr>\n",
              "    <tr>\n",
              "      <th>75%</th>\n",
              "      <td>8.000000</td>\n",
              "      <td>265.750000</td>\n",
              "      <td>128.000000</td>\n",
              "      <td>3608.000000</td>\n",
              "      <td>17.200000</td>\n",
              "      <td>79.000000</td>\n",
              "      <td>0.000000</td>\n",
              "      <td>0.000000</td>\n",
              "      <td>1.000000</td>\n",
              "    </tr>\n",
              "    <tr>\n",
              "      <th>max</th>\n",
              "      <td>8.000000</td>\n",
              "      <td>455.000000</td>\n",
              "      <td>225.000000</td>\n",
              "      <td>5140.000000</td>\n",
              "      <td>24.800000</td>\n",
              "      <td>82.000000</td>\n",
              "      <td>1.000000</td>\n",
              "      <td>1.000000</td>\n",
              "      <td>1.000000</td>\n",
              "    </tr>\n",
              "  </tbody>\n",
              "</table>\n",
              "</div>"
            ],
            "text/plain": [
              "        Cylinders  Displacement  Horsepower  ...      Europe       Japan         USA\n",
              "count  314.000000    314.000000  314.000000  ...  314.000000  314.000000  314.000000\n",
              "mean     5.477707    195.318471  104.869427  ...    0.178344    0.197452    0.624204\n",
              "std      1.699788    104.331589   38.096214  ...    0.383413    0.398712    0.485101\n",
              "min      3.000000     68.000000   46.000000  ...    0.000000    0.000000    0.000000\n",
              "25%      4.000000    105.500000   76.250000  ...    0.000000    0.000000    0.000000\n",
              "50%      4.000000    151.000000   94.500000  ...    0.000000    0.000000    1.000000\n",
              "75%      8.000000    265.750000  128.000000  ...    0.000000    0.000000    1.000000\n",
              "max      8.000000    455.000000  225.000000  ...    1.000000    1.000000    1.000000\n",
              "\n",
              "[8 rows x 9 columns]"
            ]
          },
          "metadata": {
            "tags": []
          },
          "execution_count": 35
        }
      ]
    },
    {
      "cell_type": "code",
      "metadata": {
        "id": "cioktPZXf9Tp"
      },
      "source": [
        "normed_train_data = norm(train_dataset)\n",
        "normed_test_data = norm(test_dataset)"
      ],
      "execution_count": null,
      "outputs": []
    },
    {
      "cell_type": "markdown",
      "metadata": {
        "id": "BuiClDk45eS4"
      },
      "source": [
        "- This normalized data is what we will use to train the model.\n",
        "\n",
        "- **Caution**: The statistics used to normalize the inputs here (mean and standard deviation) need to be applied to any other data that is fed to the model, along with the one-hot encoding that we did earlier.\n",
        "\n",
        "  - That includes the test set as well as live data when the model is used in production."
      ]
    },
    {
      "cell_type": "code",
      "metadata": {
        "colab": {
          "base_uri": "https://localhost:8080/",
          "height": 314
        },
        "id": "0lFfRij799h-",
        "outputId": "b81ab80b-8e0c-4d5d-be2d-fc074b12dadd"
      },
      "source": [
        "normed_train_data.describe()"
      ],
      "execution_count": null,
      "outputs": [
        {
          "output_type": "execute_result",
          "data": {
            "text/html": [
              "<div>\n",
              "<style scoped>\n",
              "    .dataframe tbody tr th:only-of-type {\n",
              "        vertical-align: middle;\n",
              "    }\n",
              "\n",
              "    .dataframe tbody tr th {\n",
              "        vertical-align: top;\n",
              "    }\n",
              "\n",
              "    .dataframe thead th {\n",
              "        text-align: right;\n",
              "    }\n",
              "</style>\n",
              "<table border=\"1\" class=\"dataframe\">\n",
              "  <thead>\n",
              "    <tr style=\"text-align: right;\">\n",
              "      <th></th>\n",
              "      <th>Cylinders</th>\n",
              "      <th>Displacement</th>\n",
              "      <th>Horsepower</th>\n",
              "      <th>Weight</th>\n",
              "      <th>Acceleration</th>\n",
              "      <th>Model Year</th>\n",
              "      <th>Europe</th>\n",
              "      <th>Japan</th>\n",
              "      <th>USA</th>\n",
              "    </tr>\n",
              "  </thead>\n",
              "  <tbody>\n",
              "    <tr>\n",
              "      <th>count</th>\n",
              "      <td>3.140000e+02</td>\n",
              "      <td>3.140000e+02</td>\n",
              "      <td>3.140000e+02</td>\n",
              "      <td>3.140000e+02</td>\n",
              "      <td>3.140000e+02</td>\n",
              "      <td>3.140000e+02</td>\n",
              "      <td>3.140000e+02</td>\n",
              "      <td>3.140000e+02</td>\n",
              "      <td>3.140000e+02</td>\n",
              "    </tr>\n",
              "    <tr>\n",
              "      <th>mean</th>\n",
              "      <td>2.093159e-16</td>\n",
              "      <td>1.018294e-16</td>\n",
              "      <td>-1.909301e-17</td>\n",
              "      <td>-9.723291e-17</td>\n",
              "      <td>2.688832e-15</td>\n",
              "      <td>9.561531e-16</td>\n",
              "      <td>9.334359e-17</td>\n",
              "      <td>-4.702537e-17</td>\n",
              "      <td>-6.788625e-17</td>\n",
              "    </tr>\n",
              "    <tr>\n",
              "      <th>std</th>\n",
              "      <td>1.000000e+00</td>\n",
              "      <td>1.000000e+00</td>\n",
              "      <td>1.000000e+00</td>\n",
              "      <td>1.000000e+00</td>\n",
              "      <td>1.000000e+00</td>\n",
              "      <td>1.000000e+00</td>\n",
              "      <td>1.000000e+00</td>\n",
              "      <td>1.000000e+00</td>\n",
              "      <td>1.000000e+00</td>\n",
              "    </tr>\n",
              "    <tr>\n",
              "      <th>min</th>\n",
              "      <td>-1.457657e+00</td>\n",
              "      <td>-1.220325e+00</td>\n",
              "      <td>-1.545283e+00</td>\n",
              "      <td>-1.589352e+00</td>\n",
              "      <td>-2.710152e+00</td>\n",
              "      <td>-1.604642e+00</td>\n",
              "      <td>-4.651484e-01</td>\n",
              "      <td>-4.952254e-01</td>\n",
              "      <td>-1.286751e+00</td>\n",
              "    </tr>\n",
              "    <tr>\n",
              "      <th>25%</th>\n",
              "      <td>-8.693480e-01</td>\n",
              "      <td>-8.608943e-01</td>\n",
              "      <td>-7.512407e-01</td>\n",
              "      <td>-8.694784e-01</td>\n",
              "      <td>-6.307245e-01</td>\n",
              "      <td>-7.884578e-01</td>\n",
              "      <td>-4.651484e-01</td>\n",
              "      <td>-4.952254e-01</td>\n",
              "      <td>-1.286751e+00</td>\n",
              "    </tr>\n",
              "    <tr>\n",
              "      <th>50%</th>\n",
              "      <td>-8.693480e-01</td>\n",
              "      <td>-4.247848e-01</td>\n",
              "      <td>-2.721905e-01</td>\n",
              "      <td>-1.987817e-01</td>\n",
              "      <td>-2.123729e-02</td>\n",
              "      <td>2.772599e-02</td>\n",
              "      <td>-4.651484e-01</td>\n",
              "      <td>-4.952254e-01</td>\n",
              "      <td>7.746764e-01</td>\n",
              "    </tr>\n",
              "    <tr>\n",
              "      <th>75%</th>\n",
              "      <td>1.483887e+00</td>\n",
              "      <td>6.750739e-01</td>\n",
              "      <td>6.071620e-01</td>\n",
              "      <td>7.320173e-01</td>\n",
              "      <td>5.882500e-01</td>\n",
              "      <td>8.439098e-01</td>\n",
              "      <td>-4.651484e-01</td>\n",
              "      <td>-4.952254e-01</td>\n",
              "      <td>7.746764e-01</td>\n",
              "    </tr>\n",
              "    <tr>\n",
              "      <th>max</th>\n",
              "      <td>1.483887e+00</td>\n",
              "      <td>2.489002e+00</td>\n",
              "      <td>3.153347e+00</td>\n",
              "      <td>2.547401e+00</td>\n",
              "      <td>3.313017e+00</td>\n",
              "      <td>1.660094e+00</td>\n",
              "      <td>2.143005e+00</td>\n",
              "      <td>2.012852e+00</td>\n",
              "      <td>7.746764e-01</td>\n",
              "    </tr>\n",
              "  </tbody>\n",
              "</table>\n",
              "</div>"
            ],
            "text/plain": [
              "          Cylinders  Displacement  ...         Japan           USA\n",
              "count  3.140000e+02  3.140000e+02  ...  3.140000e+02  3.140000e+02\n",
              "mean   2.093159e-16  1.018294e-16  ... -4.702537e-17 -6.788625e-17\n",
              "std    1.000000e+00  1.000000e+00  ...  1.000000e+00  1.000000e+00\n",
              "min   -1.457657e+00 -1.220325e+00  ... -4.952254e-01 -1.286751e+00\n",
              "25%   -8.693480e-01 -8.608943e-01  ... -4.952254e-01 -1.286751e+00\n",
              "50%   -8.693480e-01 -4.247848e-01  ... -4.952254e-01  7.746764e-01\n",
              "75%    1.483887e+00  6.750739e-01  ... -4.952254e-01  7.746764e-01\n",
              "max    1.483887e+00  2.489002e+00  ...  2.012852e+00  7.746764e-01\n",
              "\n",
              "[8 rows x 9 columns]"
            ]
          },
          "metadata": {
            "tags": []
          },
          "execution_count": 46
        }
      ]
    },
    {
      "cell_type": "markdown",
      "metadata": {
        "id": "SmjdzxKzEu1-"
      },
      "source": [
        "<a id=section3></a>\n",
        "## 3. The Model"
      ]
    },
    {
      "cell_type": "markdown",
      "metadata": {
        "id": "6SWtkIjhrZwa"
      },
      "source": [
        "<a id=section301></a>\n",
        "### 3.1 Build the Model\n",
        "\n",
        "- Let's build our model.\n",
        "\n",
        "- Here, we'll use a `Sequential` model with two densely connected hidden layers, and an output layer that returns a single, continuous value.\n",
        "  \n",
        "  - Previously, we use the `model.add()` method to **add layers** to our sequential model.\n",
        "\n",
        "  - Here, we will directly **pass** all our *model layers* as **list items**.\n",
        "\n",
        "  - We achive same result in both ways.\n",
        "\n",
        "- The model building steps are wrapped in a function, `build_model`, since we'll create a second model, later on."
      ]
    },
    {
      "cell_type": "code",
      "metadata": {
        "id": "c26juK7ZG8j-"
      },
      "source": [
        "def build_model():\n",
        "  model = keras.Sequential([layers.Dense(64, activation='relu', input_shape=[len(train_dataset.keys())]),\n",
        "                            layers.Dense(64, activation='relu'),\n",
        "                            layers.Dense(1)])\n",
        "\n",
        "  # Defining the optimizer with a specific learning rate of 0.001\n",
        "  optimizer = tf.keras.optimizers.RMSprop(0.001)\n",
        "\n",
        "  # Compiling the model\n",
        "  model.compile(loss='mse', optimizer=optimizer, metrics=['mae', 'mse'])\n",
        "  return model"
      ],
      "execution_count": null,
      "outputs": []
    },
    {
      "cell_type": "code",
      "metadata": {
        "id": "cGbPb-PHGbhs"
      },
      "source": [
        "model = build_model()"
      ],
      "execution_count": null,
      "outputs": []
    },
    {
      "cell_type": "markdown",
      "metadata": {
        "id": "Sj49Og4YGULr"
      },
      "source": [
        "<a id=section302></a>\n",
        "### 3.2 Inspect the Model\n",
        "\n",
        "- Using the `.summary` method to print a simple description of the model"
      ]
    },
    {
      "cell_type": "code",
      "metadata": {
        "id": "ReAD0n6MsFK-",
        "colab": {
          "base_uri": "https://localhost:8080/"
        },
        "outputId": "8c729f9c-3724-4070-9cfa-37cee7e9d720"
      },
      "source": [
        "model.summary()"
      ],
      "execution_count": null,
      "outputs": [
        {
          "output_type": "stream",
          "text": [
            "Model: \"sequential\"\n",
            "_________________________________________________________________\n",
            "Layer (type)                 Output Shape              Param #   \n",
            "=================================================================\n",
            "dense (Dense)                (None, 64)                640       \n",
            "_________________________________________________________________\n",
            "dense_1 (Dense)              (None, 64)                4160      \n",
            "_________________________________________________________________\n",
            "dense_2 (Dense)              (None, 1)                 65        \n",
            "=================================================================\n",
            "Total params: 4,865\n",
            "Trainable params: 4,865\n",
            "Non-trainable params: 0\n",
            "_________________________________________________________________\n"
          ],
          "name": "stdout"
        }
      ]
    },
    {
      "cell_type": "markdown",
      "metadata": {
        "id": "Vt6W50qGsJAL"
      },
      "source": [
        "- Now let's try out the model.\n",
        "\n",
        "- Taking a batch of `10` examples from the training data and calling `model.predict` on it."
      ]
    },
    {
      "cell_type": "code",
      "metadata": {
        "id": "-d-gBaVtGTSC",
        "colab": {
          "base_uri": "https://localhost:8080/",
          "height": 185
        },
        "outputId": "fd92d656-491d-49ab-8083-58ae6269882f"
      },
      "source": [
        "example_batch = normed_train_data[:10]\n",
        "example_result = model.predict(example_batch)\n",
        "example_result"
      ],
      "execution_count": null,
      "outputs": [
        {
          "output_type": "execute_result",
          "data": {
            "text/plain": [
              "array([[0.48484805],\n",
              "       [0.4355578 ],\n",
              "       [0.212417  ],\n",
              "       [0.7041454 ],\n",
              "       [0.60287637],\n",
              "       [0.6091177 ],\n",
              "       [0.5872176 ],\n",
              "       [0.31597763],\n",
              "       [0.42067105],\n",
              "       [0.3166316 ]], dtype=float32)"
            ]
          },
          "metadata": {
            "tags": []
          },
          "execution_count": 24
        }
      ]
    },
    {
      "cell_type": "markdown",
      "metadata": {
        "id": "QlM8KrSOsaYo"
      },
      "source": [
        "- It seems to be working, and it produces a result of the expected shape and type.\n",
        "\n",
        "- We haven't trained the model yet, and as a result the above predictions are like this. "
      ]
    },
    {
      "cell_type": "markdown",
      "metadata": {
        "id": "0-qWCsh6DlyH"
      },
      "source": [
        "<a id=section303></a>\n",
        "### 3.3 Train the Model\n",
        "\n",
        "- Training the model for 1000 epochs, and recording the training and validation accuracy in the `history` object.\n",
        "\n",
        "- We are using `tfdocs.modeling.EpochDots()` callback to print a \".\" every epoch, with reports after each 100 epochs.\n",
        "\n",
        "  - These print settings are the default values, i. e. printing a \".\" after each epoch and a report after 100 epochs.\n",
        "\n",
        "  - We can change these as per our requirements in the callback."
      ]
    },
    {
      "cell_type": "code",
      "metadata": {
        "id": "A6e-I-rukbUi"
      },
      "source": [
        "EPOCHS = 1000"
      ],
      "execution_count": null,
      "outputs": []
    },
    {
      "cell_type": "code",
      "metadata": {
        "id": "sD7qHCmNIOY0",
        "colab": {
          "base_uri": "https://localhost:8080/"
        },
        "outputId": "ba43f378-c2b7-4f51-a495-5b4f5800aa89"
      },
      "source": [
        "history = model.fit(normed_train_data, train_labels, epochs=EPOCHS, validation_split=0.2,\n",
        "                    verbose=0, callbacks=[tfdocs.modeling.EpochDots()])"
      ],
      "execution_count": null,
      "outputs": [
        {
          "output_type": "stream",
          "text": [
            "\n",
            "Epoch: 0, loss:535.7551,  mae:22.0119,  mse:535.7551,  val_loss:519.7569,  val_mae:21.6514,  val_mse:519.7569,  \n",
            "....................................................................................................\n",
            "Epoch: 100, loss:5.9391,  mae:1.7195,  mse:5.9391,  val_loss:8.8469,  val_mae:2.2738,  val_mse:8.8469,  \n",
            "....................................................................................................\n",
            "Epoch: 200, loss:5.2417,  mae:1.5782,  mse:5.2417,  val_loss:8.9270,  val_mae:2.2665,  val_mse:8.9270,  \n",
            "....................................................................................................\n",
            "Epoch: 300, loss:4.7642,  mae:1.4716,  mse:4.7642,  val_loss:9.1399,  val_mae:2.2520,  val_mse:9.1399,  \n",
            "....................................................................................................\n",
            "Epoch: 400, loss:4.3109,  mae:1.3815,  mse:4.3109,  val_loss:9.1244,  val_mae:2.2816,  val_mse:9.1244,  \n",
            "....................................................................................................\n",
            "Epoch: 500, loss:4.0495,  mae:1.3319,  mse:4.0495,  val_loss:9.0117,  val_mae:2.2642,  val_mse:9.0117,  \n",
            "....................................................................................................\n",
            "Epoch: 600, loss:3.4910,  mae:1.2301,  mse:3.4910,  val_loss:9.3743,  val_mae:2.3127,  val_mse:9.3743,  \n",
            "....................................................................................................\n",
            "Epoch: 700, loss:3.1194,  mae:1.1549,  mse:3.1194,  val_loss:9.0628,  val_mae:2.2862,  val_mse:9.0628,  \n",
            "....................................................................................................\n",
            "Epoch: 800, loss:2.9323,  mae:1.1075,  mse:2.9323,  val_loss:8.9112,  val_mae:2.2422,  val_mse:8.9112,  \n",
            "....................................................................................................\n",
            "Epoch: 900, loss:2.7893,  mae:1.0792,  mse:2.7893,  val_loss:9.2773,  val_mae:2.2922,  val_mse:9.2773,  \n",
            "...................................................................................................."
          ],
          "name": "stdout"
        }
      ]
    },
    {
      "cell_type": "markdown",
      "metadata": {
        "id": "tQm3pc0FYPQB"
      },
      "source": [
        "- Visualizing the model's training progress using the stats stored in the `history` object."
      ]
    },
    {
      "cell_type": "code",
      "metadata": {
        "id": "4Xj91b-dymEy",
        "colab": {
          "base_uri": "https://localhost:8080/",
          "height": 202
        },
        "outputId": "3cea10dd-115d-4473-ea5c-e4a3a784500b"
      },
      "source": [
        "hist = pd.DataFrame(history.history)\n",
        "hist['epoch'] = history.epoch\n",
        "hist.tail()"
      ],
      "execution_count": null,
      "outputs": [
        {
          "output_type": "execute_result",
          "data": {
            "text/html": [
              "<div>\n",
              "<style scoped>\n",
              "    .dataframe tbody tr th:only-of-type {\n",
              "        vertical-align: middle;\n",
              "    }\n",
              "\n",
              "    .dataframe tbody tr th {\n",
              "        vertical-align: top;\n",
              "    }\n",
              "\n",
              "    .dataframe thead th {\n",
              "        text-align: right;\n",
              "    }\n",
              "</style>\n",
              "<table border=\"1\" class=\"dataframe\">\n",
              "  <thead>\n",
              "    <tr style=\"text-align: right;\">\n",
              "      <th></th>\n",
              "      <th>loss</th>\n",
              "      <th>mae</th>\n",
              "      <th>mse</th>\n",
              "      <th>val_loss</th>\n",
              "      <th>val_mae</th>\n",
              "      <th>val_mse</th>\n",
              "      <th>epoch</th>\n",
              "    </tr>\n",
              "  </thead>\n",
              "  <tbody>\n",
              "    <tr>\n",
              "      <th>995</th>\n",
              "      <td>2.518388</td>\n",
              "      <td>1.010355</td>\n",
              "      <td>2.518388</td>\n",
              "      <td>9.386267</td>\n",
              "      <td>2.272485</td>\n",
              "      <td>9.386267</td>\n",
              "      <td>995</td>\n",
              "    </tr>\n",
              "    <tr>\n",
              "      <th>996</th>\n",
              "      <td>2.584646</td>\n",
              "      <td>1.033861</td>\n",
              "      <td>2.584646</td>\n",
              "      <td>9.365862</td>\n",
              "      <td>2.271146</td>\n",
              "      <td>9.365862</td>\n",
              "      <td>996</td>\n",
              "    </tr>\n",
              "    <tr>\n",
              "      <th>997</th>\n",
              "      <td>2.522369</td>\n",
              "      <td>0.974165</td>\n",
              "      <td>2.522369</td>\n",
              "      <td>8.917882</td>\n",
              "      <td>2.252954</td>\n",
              "      <td>8.917882</td>\n",
              "      <td>997</td>\n",
              "    </tr>\n",
              "    <tr>\n",
              "      <th>998</th>\n",
              "      <td>2.529737</td>\n",
              "      <td>0.977853</td>\n",
              "      <td>2.529737</td>\n",
              "      <td>9.477320</td>\n",
              "      <td>2.281959</td>\n",
              "      <td>9.477320</td>\n",
              "      <td>998</td>\n",
              "    </tr>\n",
              "    <tr>\n",
              "      <th>999</th>\n",
              "      <td>2.554358</td>\n",
              "      <td>1.022289</td>\n",
              "      <td>2.554358</td>\n",
              "      <td>9.189528</td>\n",
              "      <td>2.237640</td>\n",
              "      <td>9.189528</td>\n",
              "      <td>999</td>\n",
              "    </tr>\n",
              "  </tbody>\n",
              "</table>\n",
              "</div>"
            ],
            "text/plain": [
              "         loss       mae       mse  val_loss   val_mae   val_mse  epoch\n",
              "995  2.518388  1.010355  2.518388  9.386267  2.272485  9.386267    995\n",
              "996  2.584646  1.033861  2.584646  9.365862  2.271146  9.365862    996\n",
              "997  2.522369  0.974165  2.522369  8.917882  2.252954  8.917882    997\n",
              "998  2.529737  0.977853  2.529737  9.477320  2.281959  9.477320    998\n",
              "999  2.554358  1.022289  2.554358  9.189528  2.237640  9.189528    999"
            ]
          },
          "metadata": {
            "tags": []
          },
          "execution_count": 52
        }
      ]
    },
    {
      "cell_type": "markdown",
      "metadata": {
        "id": "HdH3mNkqipW0"
      },
      "source": [
        "- We are using `tfdocs.plots.HistoryPlotter()` to plot our model history.\n"
      ]
    },
    {
      "cell_type": "code",
      "metadata": {
        "id": "czYtZS9A6D-X"
      },
      "source": [
        "plotter = tfdocs.plots.HistoryPlotter(smoothing_std=2)"
      ],
      "execution_count": null,
      "outputs": []
    },
    {
      "cell_type": "markdown",
      "metadata": {
        "id": "yn74tWRwjAR0"
      },
      "source": [
        "- Specifying the name of our **history** object in the `plotter.plot()` method.\n",
        "\n",
        "- We also need to specify the **metric** we want to plot."
      ]
    },
    {
      "cell_type": "markdown",
      "metadata": {
        "id": "qHfIGDF4j-H1"
      },
      "source": [
        "- Plotting the **MAE** plot for train and val set."
      ]
    },
    {
      "cell_type": "code",
      "metadata": {
        "id": "nMCWKskbUTvG",
        "colab": {
          "base_uri": "https://localhost:8080/",
          "height": 301
        },
        "outputId": "1ab80375-42f9-4771-ffb4-c3ddd481ea71"
      },
      "source": [
        "plotter.plot({'Basic': history}, metric=\"mae\")\n",
        "plt.ylim([0, 10])\n",
        "plt.ylabel('MAE [MPG]')"
      ],
      "execution_count": null,
      "outputs": [
        {
          "output_type": "execute_result",
          "data": {
            "text/plain": [
              "Text(0, 0.5, 'MAE [MPG]')"
            ]
          },
          "metadata": {
            "tags": []
          },
          "execution_count": 55
        },
        {
          "output_type": "display_data",
          "data": {
            "image/png": "[encoded data removed]",
            "text/plain": [
              "<Figure size 432x288 with 1 Axes>"
            ]
          },
          "metadata": {
            "tags": [],
            "needs_background": "light"
          }
        }
      ]
    },
    {
      "cell_type": "markdown",
      "metadata": {
        "id": "Hg6k_D_RkD56"
      },
      "source": [
        "- Plotting the **MSE** plot for train and val set."
      ]
    },
    {
      "cell_type": "code",
      "metadata": {
        "id": "N9u74b1tXMd9",
        "colab": {
          "base_uri": "https://localhost:8080/",
          "height": 300
        },
        "outputId": "cc609c3c-a19b-4efd-8161-664a82fa904b"
      },
      "source": [
        "plotter.plot({'Basic': history}, metric=\"mse\")\n",
        "plt.ylim([0, 20])\n",
        "plt.ylabel('MSE [MPG^2]')"
      ],
      "execution_count": null,
      "outputs": [
        {
          "output_type": "execute_result",
          "data": {
            "text/plain": [
              "Text(0, 0.5, 'MSE [MPG^2]')"
            ]
          },
          "metadata": {
            "tags": []
          },
          "execution_count": 30
        },
        {
          "output_type": "display_data",
          "data": {
            "image/png": "[encoded data removed]",
            "text/plain": [
              "<Figure size 432x288 with 1 Axes>"
            ]
          },
          "metadata": {
            "tags": [],
            "needs_background": "light"
          }
        }
      ]
    },
    {
      "cell_type": "markdown",
      "metadata": {
        "id": "AqsuANc11FYv"
      },
      "source": [
        "- This graph shows little improvement, or even degradation in the validation error after about 100 epochs.\n",
        "\n",
        "- Let's update the `model.fit` call to automatically stop training when the validation score doesn't improve.\n",
        "\n",
        "- We'll use an *EarlyStopping callback* that tests a training condition for  every epoch.\n",
        "\n",
        "  - If a set amount of epochs elapses without showing improvement, then automatically stop the training."
      ]
    },
    {
      "cell_type": "code",
      "metadata": {
        "id": "l0e1Io0ZkWFh"
      },
      "source": [
        "model = build_model()"
      ],
      "execution_count": null,
      "outputs": []
    },
    {
      "cell_type": "code",
      "metadata": {
        "id": "2_lBHgyhkYvL"
      },
      "source": [
        "# The patience parameter is the amount of epochs to check for improvement\n",
        "early_stop = keras.callbacks.EarlyStopping(monitor='val_loss', patience=10)"
      ],
      "execution_count": null,
      "outputs": []
    },
    {
      "cell_type": "code",
      "metadata": {
        "id": "fdMZuhUgzMZ4",
        "colab": {
          "base_uri": "https://localhost:8080/",
          "height": 67
        },
        "outputId": "2e21f05e-2dca-4ef0-c80a-139fe5b2b4f4"
      },
      "source": [
        "early_history = model.fit(normed_train_data, train_labels, epochs=EPOCHS, validation_split=0.2,\n",
        "                          verbose=0, callbacks=[early_stop, tfdocs.modeling.EpochDots()])"
      ],
      "execution_count": null,
      "outputs": [
        {
          "output_type": "stream",
          "text": [
            "\n",
            "Epoch: 0, loss:569.3649,  mae:22.5323,  mse:569.3649,  val_loss:562.8590,  val_mae:22.3140,  val_mse:562.8590,  \n",
            ".............................................................................."
          ],
          "name": "stdout"
        }
      ]
    },
    {
      "cell_type": "code",
      "metadata": {
        "id": "W-OkQScflmwm",
        "colab": {
          "base_uri": "https://localhost:8080/",
          "height": 195
        },
        "outputId": "8d2939b1-2b3e-4202-9b39-c9a967b03f2a"
      },
      "source": [
        "early_hist = pd.DataFrame(early_history.history)\n",
        "early_hist['epoch'] = early_history.epoch\n",
        "early_hist.tail()"
      ],
      "execution_count": null,
      "outputs": [
        {
          "output_type": "execute_result",
          "data": {
            "text/html": [
              "<div>\n",
              "<style scoped>\n",
              "    .dataframe tbody tr th:only-of-type {\n",
              "        vertical-align: middle;\n",
              "    }\n",
              "\n",
              "    .dataframe tbody tr th {\n",
              "        vertical-align: top;\n",
              "    }\n",
              "\n",
              "    .dataframe thead th {\n",
              "        text-align: right;\n",
              "    }\n",
              "</style>\n",
              "<table border=\"1\" class=\"dataframe\">\n",
              "  <thead>\n",
              "    <tr style=\"text-align: right;\">\n",
              "      <th></th>\n",
              "      <th>loss</th>\n",
              "      <th>mae</th>\n",
              "      <th>mse</th>\n",
              "      <th>val_loss</th>\n",
              "      <th>val_mae</th>\n",
              "      <th>val_mse</th>\n",
              "      <th>epoch</th>\n",
              "    </tr>\n",
              "  </thead>\n",
              "  <tbody>\n",
              "    <tr>\n",
              "      <th>73</th>\n",
              "      <td>6.250001</td>\n",
              "      <td>1.740645</td>\n",
              "      <td>6.250001</td>\n",
              "      <td>8.534706</td>\n",
              "      <td>2.145968</td>\n",
              "      <td>8.534706</td>\n",
              "      <td>73</td>\n",
              "    </tr>\n",
              "    <tr>\n",
              "      <th>74</th>\n",
              "      <td>6.333835</td>\n",
              "      <td>1.780969</td>\n",
              "      <td>6.333835</td>\n",
              "      <td>8.317598</td>\n",
              "      <td>2.217719</td>\n",
              "      <td>8.317598</td>\n",
              "      <td>74</td>\n",
              "    </tr>\n",
              "    <tr>\n",
              "      <th>75</th>\n",
              "      <td>6.153298</td>\n",
              "      <td>1.719246</td>\n",
              "      <td>6.153298</td>\n",
              "      <td>8.284129</td>\n",
              "      <td>2.144915</td>\n",
              "      <td>8.284129</td>\n",
              "      <td>75</td>\n",
              "    </tr>\n",
              "    <tr>\n",
              "      <th>76</th>\n",
              "      <td>6.295592</td>\n",
              "      <td>1.743015</td>\n",
              "      <td>6.295592</td>\n",
              "      <td>8.369061</td>\n",
              "      <td>2.195892</td>\n",
              "      <td>8.369061</td>\n",
              "      <td>76</td>\n",
              "    </tr>\n",
              "    <tr>\n",
              "      <th>77</th>\n",
              "      <td>6.240103</td>\n",
              "      <td>1.750755</td>\n",
              "      <td>6.240103</td>\n",
              "      <td>8.192513</td>\n",
              "      <td>2.151584</td>\n",
              "      <td>8.192513</td>\n",
              "      <td>77</td>\n",
              "    </tr>\n",
              "  </tbody>\n",
              "</table>\n",
              "</div>"
            ],
            "text/plain": [
              "        loss       mae       mse  val_loss   val_mae   val_mse  epoch\n",
              "73  6.250001  1.740645  6.250001  8.534706  2.145968  8.534706     73\n",
              "74  6.333835  1.780969  6.333835  8.317598  2.217719  8.317598     74\n",
              "75  6.153298  1.719246  6.153298  8.284129  2.144915  8.284129     75\n",
              "76  6.295592  1.743015  6.295592  8.369061  2.195892  8.369061     76\n",
              "77  6.240103  1.750755  6.240103  8.192513  2.151584  8.192513     77"
            ]
          },
          "metadata": {
            "tags": []
          },
          "execution_count": 34
        }
      ]
    },
    {
      "cell_type": "markdown",
      "metadata": {
        "id": "PrQWOEpzlybA"
      },
      "source": [
        "- The training stopped before completing the 1000 epochs due to our EarlyStopping callback."
      ]
    },
    {
      "cell_type": "code",
      "metadata": {
        "id": "LcopvQh3X-kX",
        "colab": {
          "base_uri": "https://localhost:8080/",
          "height": 300
        },
        "outputId": "c3202a21-1f4b-4193-e356-5906ff697861"
      },
      "source": [
        "plotter.plot({'Early Stopping': early_history}, metric=\"mae\")\n",
        "plt.ylim([0, 10])\n",
        "plt.ylabel('MAE [MPG]')"
      ],
      "execution_count": null,
      "outputs": [
        {
          "output_type": "execute_result",
          "data": {
            "text/plain": [
              "Text(0, 0.5, 'MAE [MPG]')"
            ]
          },
          "metadata": {
            "tags": []
          },
          "execution_count": 35
        },
        {
          "output_type": "display_data",
          "data": {
            "image/png": "[encoded data removed]",
            "text/plain": [
              "<Figure size 432x288 with 1 Axes>"
            ]
          },
          "metadata": {
            "tags": [],
            "needs_background": "light"
          }
        }
      ]
    },
    {
      "cell_type": "markdown",
      "metadata": {
        "id": "3St8-DmrX8P4"
      },
      "source": [
        "- The graph shows that on the validation set, the average error is usually around **+/- 2 MPG**.\n",
        "\n",
        "- Is this good? We'll leave that decision up to you."
      ]
    },
    {
      "cell_type": "markdown",
      "metadata": {
        "id": "tojqpsyuk4aY"
      },
      "source": [
        "- Let's see how well the model generalizes by using the **test** set, which we did not use when training the model.\n",
        "\n",
        "- This tells us how well we can expect the model to predict when we use it in the real world."
      ]
    },
    {
      "cell_type": "code",
      "metadata": {
        "id": "jl_yNr5n1kms",
        "colab": {
          "base_uri": "https://localhost:8080/",
          "height": 50
        },
        "outputId": "7197a322-bdfc-40d2-d79a-2857b8fffcc9"
      },
      "source": [
        "loss, mae, mse = model.evaluate(normed_test_data, test_labels, verbose=2)\n",
        "\n",
        "print(\"Testing set Mean Abs Error: {:5.2f} MPG\".format(mae))"
      ],
      "execution_count": null,
      "outputs": [
        {
          "output_type": "stream",
          "text": [
            "3/3 - 0s - loss: 5.7151 - mae: 1.8517 - mse: 5.7151\n",
            "Testing set Mean Abs Error:  1.85 MPG\n"
          ],
          "name": "stdout"
        }
      ]
    },
    {
      "cell_type": "markdown",
      "metadata": {
        "id": "gtOPvd8dm8SM"
      },
      "source": [
        "- We get a MAE of **less than 2 MPG** on the test set."
      ]
    },
    {
      "cell_type": "markdown",
      "metadata": {
        "id": "ft603OzXuEZC"
      },
      "source": [
        "<a id=section304></a>\n",
        "### 3.4 Make Predictions\n",
        "\n",
        "- Finally, **predict MPG** values using data in the testing set:"
      ]
    },
    {
      "cell_type": "code",
      "metadata": {
        "id": "QwnhW3WllMuM"
      },
      "source": [
        "test_predictions = model.predict(normed_test_data).flatten()"
      ],
      "execution_count": null,
      "outputs": []
    },
    {
      "cell_type": "code",
      "metadata": {
        "id": "Xe7RXH3N3CWU",
        "colab": {
          "base_uri": "https://localhost:8080/",
          "height": 283
        },
        "outputId": "145f2925-c548-4b02-8574-52442ce06779"
      },
      "source": [
        "a = plt.axes(aspect='equal')\n",
        "plt.scatter(test_labels, test_predictions)\n",
        "plt.xlabel('True Values [MPG]')\n",
        "plt.ylabel('Predictions [MPG]')\n",
        "lims = [0, 50]\n",
        "plt.xlim(lims)\n",
        "plt.ylim(lims)\n",
        "_ = plt.plot(lims, lims)"
      ],
      "execution_count": null,
      "outputs": [
        {
          "output_type": "display_data",
          "data": {
            "image/png": "[encoded data removed]",
            "text/plain": [
              "<Figure size 432x288 with 1 Axes>"
            ]
          },
          "metadata": {
            "tags": [],
            "needs_background": "light"
          }
        }
      ]
    },
    {
      "cell_type": "markdown",
      "metadata": {
        "id": "19wyogbOSU5t"
      },
      "source": [
        "- It looks like our model predicts reasonably well.\n",
        "\n",
        "- Let's take a look at the **error** distribution."
      ]
    },
    {
      "cell_type": "code",
      "metadata": {
        "id": "-5Q1c0GHldwW"
      },
      "source": [
        "error = test_predictions - test_labels"
      ],
      "execution_count": null,
      "outputs": []
    },
    {
      "cell_type": "code",
      "metadata": {
        "id": "f-OHX4DiXd8x",
        "colab": {
          "base_uri": "https://localhost:8080/",
          "height": 279
        },
        "outputId": "e33705c8-99ee-4529-9041-14bf185ebb55"
      },
      "source": [
        "plt.hist(error, bins=25)\n",
        "plt.xlabel(\"Prediction Error [MPG]\")\n",
        "_ = plt.ylabel(\"Count\")"
      ],
      "execution_count": null,
      "outputs": [
        {
          "output_type": "display_data",
          "data": {
            "image/png": "[encoded data removed]",
            "text/plain": [
              "<Figure size 432x288 with 1 Axes>"
            ]
          },
          "metadata": {
            "tags": [],
            "needs_background": "light"
          }
        }
      ]
    },
    {
      "cell_type": "markdown",
      "metadata": {
        "id": "m0CB5tBjSU5w"
      },
      "source": [
        "- It's not quite gaussian, but we might expect that because the number of samples is very small."
      ]
    },
    {
      "cell_type": "markdown",
      "metadata": {
        "id": "M5nJiBilJUBl"
      },
      "source": [
        "<a id=section4></a>\n",
        "## 4. Model Tuning"
      ]
    },
    {
      "cell_type": "markdown",
      "metadata": {
        "id": "OjfoiQTRKJD4"
      },
      "source": [
        "- We have already achieved very good result on our test set.\n",
        "\n",
        "- If we train the model for too long, the model will start to overfit and learn patterns from the training data that don't generalize to the test data.\n",
        "\n",
        "  - We need to strike a balance.\n",
        "  \n",
        "  - We have already learned how to train for an appropriate number of epochs using the **Early Stopping** callback.\n",
        "\n",
        "- And, now we will experiment some additional methods to **improve** the model **performance** and reduce overfitting.\n",
        "\n",
        "  - These methods will all be applied during model building."
      ]
    },
    {
      "cell_type": "markdown",
      "metadata": {
        "id": "VIApFoPyJepz"
      },
      "source": [
        "<a id=section401></a>\n",
        "### 4.1 Increasing the Number of Hidden Layers and Hidden Units"
      ]
    },
    {
      "cell_type": "markdown",
      "metadata": {
        "id": "cQVp-itGRTSe"
      },
      "source": [
        "- We can improve model performance by increasing the number of hidden layers and hidden units in the model.\n",
        "\n",
        "  - But this can result in overfitting.\n",
        "\n",
        "- Here, we are increasing the number of **hidden layers** from 2 to **4** i. e. adding 2 additional layers.\n",
        "\n",
        "- Next, we are using **256 hidden units** instead of 64."
      ]
    },
    {
      "cell_type": "code",
      "metadata": {
        "id": "N-rzA-MULKlL"
      },
      "source": [
        "model = keras.Sequential([layers.Dense(256, activation='relu', input_shape=[len(train_dataset.keys())]),\n",
        "                          layers.Dense(256, activation='relu'),\n",
        "                          layers.Dense(256, activation='relu'),\n",
        "                          layers.Dense(256, activation='relu'),\n",
        "                          layers.Dense(1)])"
      ],
      "execution_count": null,
      "outputs": []
    },
    {
      "cell_type": "code",
      "metadata": {
        "id": "0y_7Xdc5XIHM",
        "colab": {
          "base_uri": "https://localhost:8080/"
        },
        "outputId": "7c53eb9f-8057-4199-86c9-c54b47794f1b"
      },
      "source": [
        "model.summary()"
      ],
      "execution_count": null,
      "outputs": [
        {
          "output_type": "stream",
          "text": [
            "Model: \"sequential_1\"\n",
            "_________________________________________________________________\n",
            "Layer (type)                 Output Shape              Param #   \n",
            "=================================================================\n",
            "dense_3 (Dense)              (None, 256)               2560      \n",
            "_________________________________________________________________\n",
            "dense_4 (Dense)              (None, 256)               65792     \n",
            "_________________________________________________________________\n",
            "dense_5 (Dense)              (None, 256)               65792     \n",
            "_________________________________________________________________\n",
            "dense_6 (Dense)              (None, 256)               65792     \n",
            "_________________________________________________________________\n",
            "dense_7 (Dense)              (None, 1)                 257       \n",
            "=================================================================\n",
            "Total params: 200,193\n",
            "Trainable params: 200,193\n",
            "Non-trainable params: 0\n",
            "_________________________________________________________________\n"
          ],
          "name": "stdout"
        }
      ]
    },
    {
      "cell_type": "code",
      "metadata": {
        "id": "iruVj2Z6Kp3u"
      },
      "source": [
        "# Defining the optimizer with a specific learning rate of 0.001\n",
        "optimizer = tf.keras.optimizers.RMSprop(0.001)\n",
        "\n",
        "# Compiling the model\n",
        "model.compile(loss='mse', optimizer=optimizer, metrics=['mae', 'mse'])"
      ],
      "execution_count": null,
      "outputs": []
    },
    {
      "cell_type": "markdown",
      "metadata": {
        "id": "1zWZ9AZ1XMK4"
      },
      "source": [
        "- We are not using the Early Stopping callback now.\n",
        "\n",
        "- The model will be trained for **100 epochs**."
      ]
    },
    {
      "cell_type": "code",
      "metadata": {
        "id": "l-JAVgBXKp32",
        "colab": {
          "base_uri": "https://localhost:8080/"
        },
        "outputId": "2c535aa1-b0cb-4872-d4ea-8f3c28104afc"
      },
      "source": [
        "history_large = model.fit(normed_train_data, train_labels, epochs=100, validation_split=0.2,\n",
        "                          verbose=0, callbacks=[tfdocs.modeling.EpochDots()])"
      ],
      "execution_count": null,
      "outputs": [
        {
          "output_type": "stream",
          "text": [
            "\n",
            "Epoch: 0, loss:8.4394,  mae:2.1427,  mse:8.4394,  val_loss:8.9246,  val_mae:2.2725,  val_mse:8.9246,  \n",
            "...................................................................................................."
          ],
          "name": "stdout"
        }
      ]
    },
    {
      "cell_type": "code",
      "metadata": {
        "id": "T704VIcvKp34",
        "colab": {
          "base_uri": "https://localhost:8080/",
          "height": 202
        },
        "outputId": "a059dea4-2409-40a4-9399-865fe330d4e2"
      },
      "source": [
        "hist_large = pd.DataFrame(history_large.history)\n",
        "hist_large['epoch'] = history_large.epoch\n",
        "hist_large.tail()"
      ],
      "execution_count": null,
      "outputs": [
        {
          "output_type": "execute_result",
          "data": {
            "text/html": [
              "<div>\n",
              "<style scoped>\n",
              "    .dataframe tbody tr th:only-of-type {\n",
              "        vertical-align: middle;\n",
              "    }\n",
              "\n",
              "    .dataframe tbody tr th {\n",
              "        vertical-align: top;\n",
              "    }\n",
              "\n",
              "    .dataframe thead th {\n",
              "        text-align: right;\n",
              "    }\n",
              "</style>\n",
              "<table border=\"1\" class=\"dataframe\">\n",
              "  <thead>\n",
              "    <tr style=\"text-align: right;\">\n",
              "      <th></th>\n",
              "      <th>loss</th>\n",
              "      <th>mae</th>\n",
              "      <th>mse</th>\n",
              "      <th>val_loss</th>\n",
              "      <th>val_mae</th>\n",
              "      <th>val_mse</th>\n",
              "      <th>epoch</th>\n",
              "    </tr>\n",
              "  </thead>\n",
              "  <tbody>\n",
              "    <tr>\n",
              "      <th>95</th>\n",
              "      <td>5.345466</td>\n",
              "      <td>1.676941</td>\n",
              "      <td>5.345466</td>\n",
              "      <td>8.363540</td>\n",
              "      <td>2.285376</td>\n",
              "      <td>8.363540</td>\n",
              "      <td>95</td>\n",
              "    </tr>\n",
              "    <tr>\n",
              "      <th>96</th>\n",
              "      <td>3.275711</td>\n",
              "      <td>1.255283</td>\n",
              "      <td>3.275711</td>\n",
              "      <td>11.952993</td>\n",
              "      <td>2.808116</td>\n",
              "      <td>11.952993</td>\n",
              "      <td>96</td>\n",
              "    </tr>\n",
              "    <tr>\n",
              "      <th>97</th>\n",
              "      <td>6.527256</td>\n",
              "      <td>1.892061</td>\n",
              "      <td>6.527256</td>\n",
              "      <td>11.479698</td>\n",
              "      <td>2.592773</td>\n",
              "      <td>11.479698</td>\n",
              "      <td>97</td>\n",
              "    </tr>\n",
              "    <tr>\n",
              "      <th>98</th>\n",
              "      <td>3.313771</td>\n",
              "      <td>1.307942</td>\n",
              "      <td>3.313771</td>\n",
              "      <td>8.013959</td>\n",
              "      <td>2.267138</td>\n",
              "      <td>8.013959</td>\n",
              "      <td>98</td>\n",
              "    </tr>\n",
              "    <tr>\n",
              "      <th>99</th>\n",
              "      <td>4.843143</td>\n",
              "      <td>1.542908</td>\n",
              "      <td>4.843143</td>\n",
              "      <td>11.712663</td>\n",
              "      <td>2.614754</td>\n",
              "      <td>11.712663</td>\n",
              "      <td>99</td>\n",
              "    </tr>\n",
              "  </tbody>\n",
              "</table>\n",
              "</div>"
            ],
            "text/plain": [
              "        loss       mae       mse   val_loss   val_mae    val_mse  epoch\n",
              "95  5.345466  1.676941  5.345466   8.363540  2.285376   8.363540     95\n",
              "96  3.275711  1.255283  3.275711  11.952993  2.808116  11.952993     96\n",
              "97  6.527256  1.892061  6.527256  11.479698  2.592773  11.479698     97\n",
              "98  3.313771  1.307942  3.313771   8.013959  2.267138   8.013959     98\n",
              "99  4.843143  1.542908  4.843143  11.712663  2.614754  11.712663     99"
            ]
          },
          "metadata": {
            "tags": []
          },
          "execution_count": 66
        }
      ]
    },
    {
      "cell_type": "code",
      "metadata": {
        "id": "aNrCwF7RJimw",
        "colab": {
          "base_uri": "https://localhost:8080/",
          "height": 301
        },
        "outputId": "ebaee57f-7ad2-4a04-f093-3f9a75347c85"
      },
      "source": [
        "plotter.plot({'Large Model': history_large}, metric=\"mae\")\n",
        "plt.ylim([0, 10])\n",
        "plt.ylabel('MAE [MPG]')"
      ],
      "execution_count": null,
      "outputs": [
        {
          "output_type": "execute_result",
          "data": {
            "text/plain": [
              "Text(0, 0.5, 'MAE [MPG]')"
            ]
          },
          "metadata": {
            "tags": []
          },
          "execution_count": 68
        },
        {
          "output_type": "display_data",
          "data": {
            "image/png": "[encoded data removed]",
            "text/plain": [
              "<Figure size 432x288 with 1 Axes>"
            ]
          },
          "metadata": {
            "tags": [],
            "needs_background": "light"
          }
        }
      ]
    },
    {
      "cell_type": "code",
      "metadata": {
        "id": "AZw3Z2yiJizn",
        "colab": {
          "base_uri": "https://localhost:8080/"
        },
        "outputId": "2b09148f-ec8f-4456-a70c-b3253de45c31"
      },
      "source": [
        "loss, mae, mse = model.evaluate(normed_test_data, test_labels, verbose=2)\n",
        "\n",
        "print(\"Testing set Mean Abs Error: {:5.2f} MPG\".format(mae))"
      ],
      "execution_count": null,
      "outputs": [
        {
          "output_type": "stream",
          "text": [
            "3/3 - 0s - loss: 10.9193 - mae: 2.8093 - mse: 10.9193\n",
            "Testing set Mean Abs Error:  2.81 MPG\n"
          ],
          "name": "stdout"
        }
      ]
    },
    {
      "cell_type": "markdown",
      "metadata": {
        "id": "LkZ5Pj6KJ3WZ"
      },
      "source": [
        "- We get a significant increase in the test set error.\n",
        "\n",
        "- The larger model is **overfitting** the train set.\n",
        "\n",
        "- The performance on the test set is worse than our smaller model."
      ]
    },
    {
      "cell_type": "markdown",
      "metadata": {
        "id": "3MKtgfwNJi6n"
      },
      "source": [
        "<a id=section402></a>\n",
        "### 4.2 Weight Regularization"
      ]
    },
    {
      "cell_type": "markdown",
      "metadata": {
        "id": "KGWhz_NPT5cA"
      },
      "source": [
        "- Regularization places **constraints** on the quantity and type of information the model can store.\n",
        "\n",
        "- If a network can only afford to memorize a small number of patterns, the optimization process will force it to focus on the most prominent patterns, which have a better chance of generalizing well."
      ]
    },
    {
      "cell_type": "markdown",
      "metadata": {
        "id": "gx1V4cRWhY8a"
      },
      "source": [
        "- We can put constraints on the complexity of a network by forcing its weights only to take small values, which makes the distribution of weight values more \"regular\".\n",
        "\n",
        "- This is called \"**weight regularization**\", and it is done by adding to the loss function of the network a cost associated with having large weights."
      ]
    },
    {
      "cell_type": "markdown",
      "metadata": {
        "id": "xneY4mKrkYrz"
      },
      "source": [
        "- This cost comes in two flavors:\n",
        "\n",
        "  - L1 regularization, where the cost added is proportional to the absolute value of the weights coefficients (i.e. to what is called the \"L1 norm\" of the weights).\n",
        "\n",
        "  - L2 regularization, where the cost added is proportional to the square of the value of the weights coefficients (i.e. to what is called the squared \"L2 norm\" of the weights).\n",
        "    - L2 regularization is also called weight decay in the context of neural networks.\n",
        "    \n",
        "    - Don't let the different name confuse you: weight decay is mathematically the exact same as L2 regularization."
      ]
    },
    {
      "cell_type": "markdown",
      "metadata": {
        "id": "lBgXBkcbjJ4i"
      },
      "source": [
        "- L1 regularization pushes weights towards exactly zero encouraging a sparse model.\n",
        "\n",
        "- L2 regularization will penalize the weights parameters without making them sparse since the penalty goes to zero for small weights.\n",
        "\n",
        "  - One reason why L2 is more common.\n",
        "\n",
        "- In `tf.keras`, weight regularization is added by passing weight regularizer instances to layers as keyword arguments.\n",
        "\n",
        "- Let's add L2 weight regularization to the model."
      ]
    },
    {
      "cell_type": "code",
      "metadata": {
        "id": "sL4B2G9xWRTg"
      },
      "source": [
        "from tensorflow.keras import regularizers"
      ],
      "execution_count": null,
      "outputs": []
    },
    {
      "cell_type": "code",
      "metadata": {
        "id": "jqTXHlHJXqsc"
      },
      "source": [
        "model = keras.Sequential([layers.Dense(256, activation='relu', kernel_regularizer=regularizers.l2(0.001), input_shape=[len(train_dataset.keys())]),\n",
        "                          layers.Dense(256, activation='relu', kernel_regularizer=regularizers.l2(0.001)),\n",
        "                          layers.Dense(256, activation='relu', kernel_regularizer=regularizers.l2(0.001)),\n",
        "                          layers.Dense(256, activation='relu', kernel_regularizer=regularizers.l2(0.001)),\n",
        "                          layers.Dense(1)])"
      ],
      "execution_count": null,
      "outputs": []
    },
    {
      "cell_type": "markdown",
      "metadata": {
        "id": "xyddXLgSn2lt"
      },
      "source": [
        "- `l2(0.001)` means that every coefficient in the weight matrix of the layer will add `(0.001 * weight_coefficient_value**2)` to the total loss of the network."
      ]
    },
    {
      "cell_type": "code",
      "metadata": {
        "id": "YHNjutsEXqsi",
        "colab": {
          "base_uri": "https://localhost:8080/"
        },
        "outputId": "a0e5ac58-aa13-42fe-881f-d353c29ed310"
      },
      "source": [
        "model.summary()"
      ],
      "execution_count": null,
      "outputs": [
        {
          "output_type": "stream",
          "text": [
            "Model: \"sequential_2\"\n",
            "_________________________________________________________________\n",
            "Layer (type)                 Output Shape              Param #   \n",
            "=================================================================\n",
            "dense_8 (Dense)              (None, 256)               2560      \n",
            "_________________________________________________________________\n",
            "dense_9 (Dense)              (None, 256)               65792     \n",
            "_________________________________________________________________\n",
            "dense_10 (Dense)             (None, 256)               65792     \n",
            "_________________________________________________________________\n",
            "dense_11 (Dense)             (None, 256)               65792     \n",
            "_________________________________________________________________\n",
            "dense_12 (Dense)             (None, 1)                 257       \n",
            "=================================================================\n",
            "Total params: 200,193\n",
            "Trainable params: 200,193\n",
            "Non-trainable params: 0\n",
            "_________________________________________________________________\n"
          ],
          "name": "stdout"
        }
      ]
    },
    {
      "cell_type": "code",
      "metadata": {
        "id": "euC9TMa8Xqso"
      },
      "source": [
        "# Defining the optimizer with a specific learning rate of 0.001\n",
        "optimizer = tf.keras.optimizers.RMSprop(0.001)\n",
        "\n",
        "# Compiling the model\n",
        "model.compile(loss='mse', optimizer=optimizer, metrics=['mae', 'mse'])"
      ],
      "execution_count": null,
      "outputs": []
    },
    {
      "cell_type": "code",
      "metadata": {
        "id": "nUcj-apxXqsr",
        "colab": {
          "base_uri": "https://localhost:8080/"
        },
        "outputId": "8e43787e-4f34-413b-b5ad-4f7747c99f2e"
      },
      "source": [
        "history_l2 = model.fit(normed_train_data, train_labels, epochs=100, validation_split=0.2,\n",
        "                          verbose=0, callbacks=[tfdocs.modeling.EpochDots()])"
      ],
      "execution_count": null,
      "outputs": [
        {
          "output_type": "stream",
          "text": [
            "\n",
            "Epoch: 0, loss:282.7473,  mae:13.5751,  mse:281.9787,  val_loss:24.2532,  val_mae:3.9363,  val_mse:23.4963,  \n",
            "...................................................................................................."
          ],
          "name": "stdout"
        }
      ]
    },
    {
      "cell_type": "code",
      "metadata": {
        "id": "UVmWaRrUXqsv",
        "colab": {
          "base_uri": "https://localhost:8080/",
          "height": 202
        },
        "outputId": "dc6f9f0d-6863-4b2b-e08d-c423ad46b5da"
      },
      "source": [
        "hist_l2 = pd.DataFrame(history_l2.history)\n",
        "hist_l2['epoch'] = history_l2.epoch\n",
        "hist_l2.tail()"
      ],
      "execution_count": null,
      "outputs": [
        {
          "output_type": "execute_result",
          "data": {
            "text/html": [
              "<div>\n",
              "<style scoped>\n",
              "    .dataframe tbody tr th:only-of-type {\n",
              "        vertical-align: middle;\n",
              "    }\n",
              "\n",
              "    .dataframe tbody tr th {\n",
              "        vertical-align: top;\n",
              "    }\n",
              "\n",
              "    .dataframe thead th {\n",
              "        text-align: right;\n",
              "    }\n",
              "</style>\n",
              "<table border=\"1\" class=\"dataframe\">\n",
              "  <thead>\n",
              "    <tr style=\"text-align: right;\">\n",
              "      <th></th>\n",
              "      <th>loss</th>\n",
              "      <th>mae</th>\n",
              "      <th>mse</th>\n",
              "      <th>val_loss</th>\n",
              "      <th>val_mae</th>\n",
              "      <th>val_mse</th>\n",
              "      <th>epoch</th>\n",
              "    </tr>\n",
              "  </thead>\n",
              "  <tbody>\n",
              "    <tr>\n",
              "      <th>95</th>\n",
              "      <td>10.297157</td>\n",
              "      <td>2.438783</td>\n",
              "      <td>9.921899</td>\n",
              "      <td>14.486997</td>\n",
              "      <td>2.695264</td>\n",
              "      <td>14.111243</td>\n",
              "      <td>95</td>\n",
              "    </tr>\n",
              "    <tr>\n",
              "      <th>96</th>\n",
              "      <td>6.379783</td>\n",
              "      <td>1.730345</td>\n",
              "      <td>6.004873</td>\n",
              "      <td>20.221365</td>\n",
              "      <td>3.744572</td>\n",
              "      <td>19.848009</td>\n",
              "      <td>96</td>\n",
              "    </tr>\n",
              "    <tr>\n",
              "      <th>97</th>\n",
              "      <td>7.774345</td>\n",
              "      <td>2.004119</td>\n",
              "      <td>7.399930</td>\n",
              "      <td>23.371857</td>\n",
              "      <td>4.062047</td>\n",
              "      <td>22.999090</td>\n",
              "      <td>97</td>\n",
              "    </tr>\n",
              "    <tr>\n",
              "      <th>98</th>\n",
              "      <td>12.443159</td>\n",
              "      <td>2.671022</td>\n",
              "      <td>12.069255</td>\n",
              "      <td>8.666959</td>\n",
              "      <td>2.166373</td>\n",
              "      <td>8.293206</td>\n",
              "      <td>98</td>\n",
              "    </tr>\n",
              "    <tr>\n",
              "      <th>99</th>\n",
              "      <td>6.512920</td>\n",
              "      <td>1.809523</td>\n",
              "      <td>6.139589</td>\n",
              "      <td>10.307363</td>\n",
              "      <td>2.401314</td>\n",
              "      <td>9.933748</td>\n",
              "      <td>99</td>\n",
              "    </tr>\n",
              "  </tbody>\n",
              "</table>\n",
              "</div>"
            ],
            "text/plain": [
              "         loss       mae        mse   val_loss   val_mae    val_mse  epoch\n",
              "95  10.297157  2.438783   9.921899  14.486997  2.695264  14.111243     95\n",
              "96   6.379783  1.730345   6.004873  20.221365  3.744572  19.848009     96\n",
              "97   7.774345  2.004119   7.399930  23.371857  4.062047  22.999090     97\n",
              "98  12.443159  2.671022  12.069255   8.666959  2.166373   8.293206     98\n",
              "99   6.512920  1.809523   6.139589  10.307363  2.401314   9.933748     99"
            ]
          },
          "metadata": {
            "tags": []
          },
          "execution_count": 76
        }
      ]
    },
    {
      "cell_type": "code",
      "metadata": {
        "id": "ByochoKtXqsz",
        "colab": {
          "base_uri": "https://localhost:8080/",
          "height": 301
        },
        "outputId": "e289f446-94ba-4d93-bde0-928f1beab47f"
      },
      "source": [
        "plotter.plot({'L2 Regularization Model': history_l2}, metric=\"mae\")\n",
        "plt.ylim([0, 10])\n",
        "plt.ylabel('MAE [MPG]')"
      ],
      "execution_count": null,
      "outputs": [
        {
          "output_type": "execute_result",
          "data": {
            "text/plain": [
              "Text(0, 0.5, 'MAE [MPG]')"
            ]
          },
          "metadata": {
            "tags": []
          },
          "execution_count": 77
        },
        {
          "output_type": "display_data",
          "data": {
            "image/png": "[encoded data removed]",
            "text/plain": [
              "<Figure size 432x288 with 1 Axes>"
            ]
          },
          "metadata": {
            "tags": [],
            "needs_background": "light"
          }
        }
      ]
    },
    {
      "cell_type": "code",
      "metadata": {
        "id": "iKBnZXlkXqs4",
        "colab": {
          "base_uri": "https://localhost:8080/"
        },
        "outputId": "18e373cb-0397-475a-c172-7b0cf0ec7ce3"
      },
      "source": [
        "loss, mae, mse = model.evaluate(normed_test_data, test_labels, verbose=2)\n",
        "\n",
        "print(\"Testing set Mean Abs Error: {:5.2f} MPG\".format(mae))"
      ],
      "execution_count": null,
      "outputs": [
        {
          "output_type": "stream",
          "text": [
            "3/3 - 0s - loss: 7.9611 - mae: 2.2395 - mse: 7.5875\n",
            "Testing set Mean Abs Error:  2.24 MPG\n"
          ],
          "name": "stdout"
        }
      ]
    },
    {
      "cell_type": "markdown",
      "metadata": {
        "id": "qbRPJBSiT5cZ"
      },
      "source": [
        "- After adding L2 regularization, the test set error is reduced.\n",
        "\n",
        "- The performance on the test set is better than the larger model.\n",
        "\n",
        "- The L2 regularized model is much more resistant to overfitting than the larger model."
      ]
    },
    {
      "cell_type": "markdown",
      "metadata": {
        "id": "RvOZFGR2UOIF"
      },
      "source": [
        "<a id=section403></a>\n",
        "### 4.3 Dropout"
      ]
    },
    {
      "cell_type": "markdown",
      "metadata": {
        "id": "88R8OaRCoVqN"
      },
      "source": [
        "- Dropout is one of the **most effective** and **most commonly used** regularization techniques for neural networks, developed by Hinton and his students at the University of Toronto.\n",
        "\n",
        "- The intuitive explanation for dropout is that because individual nodes in the network cannot rely on the output of the others, each node must output features that are useful on their own.\n",
        "\n",
        "- Dropout, applied to a layer, consists of **randomly** \"**dropping out**\" (i.e. set to zero) a number of **output features** of the layer during training.\n",
        "\n",
        "  - Let's say a given layer would normally have returned a vector [0.2, 0.5, 1.3, 0.8, 1.1] for a given input sample during training.\n",
        "  \n",
        "  - After applying dropout, this vector will have a few zero entries distributed at random, e.g. [0, 0.5, 1.3, 0, 1.1].\n",
        "\n",
        "- The \"**dropout rate**\" is the fraction of the features that are being zeroed-out; it is usually set between **0.2** and **0.5**.\n",
        "\n",
        "- *At test time*, **no units are dropped out**, and instead the layer's output values are scaled down by a factor equal to the dropout rate, so as to balance for the fact that more units are active than at training time."
      ]
    },
    {
      "cell_type": "markdown",
      "metadata": {
        "id": "dEZdmMVso23I"
      },
      "source": [
        "- In `tf.keras` we can introduce dropout in a network via the Dropout layer, which gets applied to the output of layer right before.\n",
        "\n",
        "- Let's add Dropout layers in our network to see how well they do at reducing overfitting."
      ]
    },
    {
      "cell_type": "code",
      "metadata": {
        "id": "VoNGoDZ7oVqT"
      },
      "source": [
        "model = keras.Sequential([layers.Dense(256, activation='relu', input_shape=[len(train_dataset.keys())]),\n",
        "                          layers.Dropout(0.2),\n",
        "                          layers.Dense(256, activation='relu'),\n",
        "                          layers.Dropout(0.2),\n",
        "                          layers.Dense(256, activation='relu'),\n",
        "                          layers.Dropout(0.2),\n",
        "                          layers.Dense(256, activation='relu'),\n",
        "                          layers.Dropout(0.2),\n",
        "                          layers.Dense(1)])"
      ],
      "execution_count": null,
      "outputs": []
    },
    {
      "cell_type": "code",
      "metadata": {
        "id": "9J1CrGmaoVqW",
        "colab": {
          "base_uri": "https://localhost:8080/"
        },
        "outputId": "7e781d82-f3bf-430e-b3c0-2d4443815146"
      },
      "source": [
        "model.summary()"
      ],
      "execution_count": null,
      "outputs": [
        {
          "output_type": "stream",
          "text": [
            "Model: \"sequential_3\"\n",
            "_________________________________________________________________\n",
            "Layer (type)                 Output Shape              Param #   \n",
            "=================================================================\n",
            "dense_13 (Dense)             (None, 256)               2560      \n",
            "_________________________________________________________________\n",
            "dropout (Dropout)            (None, 256)               0         \n",
            "_________________________________________________________________\n",
            "dense_14 (Dense)             (None, 256)               65792     \n",
            "_________________________________________________________________\n",
            "dropout_1 (Dropout)          (None, 256)               0         \n",
            "_________________________________________________________________\n",
            "dense_15 (Dense)             (None, 256)               65792     \n",
            "_________________________________________________________________\n",
            "dropout_2 (Dropout)          (None, 256)               0         \n",
            "_________________________________________________________________\n",
            "dense_16 (Dense)             (None, 256)               65792     \n",
            "_________________________________________________________________\n",
            "dropout_3 (Dropout)          (None, 256)               0         \n",
            "_________________________________________________________________\n",
            "dense_17 (Dense)             (None, 1)                 257       \n",
            "=================================================================\n",
            "Total params: 200,193\n",
            "Trainable params: 200,193\n",
            "Non-trainable params: 0\n",
            "_________________________________________________________________\n"
          ],
          "name": "stdout"
        }
      ]
    },
    {
      "cell_type": "code",
      "metadata": {
        "id": "NxqFfT-FoVqZ"
      },
      "source": [
        "# Defining the optimizer with a specific learning rate of 0.001\n",
        "optimizer = tf.keras.optimizers.RMSprop(0.001)\n",
        "\n",
        "# Compiling the model\n",
        "model.compile(loss='mse', optimizer=optimizer, metrics=['mae', 'mse'])"
      ],
      "execution_count": null,
      "outputs": []
    },
    {
      "cell_type": "code",
      "metadata": {
        "id": "FX1dimQPoVqb",
        "colab": {
          "base_uri": "https://localhost:8080/"
        },
        "outputId": "7262abf3-f33a-42dd-97f0-f0d2cf90db24"
      },
      "source": [
        "history_dropout = model.fit(normed_train_data, train_labels, epochs=100, validation_split=0.2,\n",
        "                          verbose=0, callbacks=[tfdocs.modeling.EpochDots()])"
      ],
      "execution_count": null,
      "outputs": [
        {
          "output_type": "stream",
          "text": [
            "\n",
            "Epoch: 0, loss:266.4071,  mae:13.4314,  mse:266.4071,  val_loss:20.5872,  val_mae:3.5192,  val_mse:20.5872,  \n",
            "...................................................................................................."
          ],
          "name": "stdout"
        }
      ]
    },
    {
      "cell_type": "code",
      "metadata": {
        "id": "RFNh8apZoVqd",
        "colab": {
          "base_uri": "https://localhost:8080/",
          "height": 202
        },
        "outputId": "ab02aa86-ffbb-4536-ece4-d16f57126f33"
      },
      "source": [
        "hist_dropout = pd.DataFrame(history_dropout.history)\n",
        "hist_dropout['epoch'] = history_dropout.epoch\n",
        "hist_dropout.tail()"
      ],
      "execution_count": null,
      "outputs": [
        {
          "output_type": "execute_result",
          "data": {
            "text/html": [
              "<div>\n",
              "<style scoped>\n",
              "    .dataframe tbody tr th:only-of-type {\n",
              "        vertical-align: middle;\n",
              "    }\n",
              "\n",
              "    .dataframe tbody tr th {\n",
              "        vertical-align: top;\n",
              "    }\n",
              "\n",
              "    .dataframe thead th {\n",
              "        text-align: right;\n",
              "    }\n",
              "</style>\n",
              "<table border=\"1\" class=\"dataframe\">\n",
              "  <thead>\n",
              "    <tr style=\"text-align: right;\">\n",
              "      <th></th>\n",
              "      <th>loss</th>\n",
              "      <th>mae</th>\n",
              "      <th>mse</th>\n",
              "      <th>val_loss</th>\n",
              "      <th>val_mae</th>\n",
              "      <th>val_mse</th>\n",
              "      <th>epoch</th>\n",
              "    </tr>\n",
              "  </thead>\n",
              "  <tbody>\n",
              "    <tr>\n",
              "      <th>95</th>\n",
              "      <td>20.582344</td>\n",
              "      <td>3.292065</td>\n",
              "      <td>20.582344</td>\n",
              "      <td>16.877333</td>\n",
              "      <td>3.211786</td>\n",
              "      <td>16.877333</td>\n",
              "      <td>95</td>\n",
              "    </tr>\n",
              "    <tr>\n",
              "      <th>96</th>\n",
              "      <td>12.911310</td>\n",
              "      <td>2.651169</td>\n",
              "      <td>12.911310</td>\n",
              "      <td>16.586535</td>\n",
              "      <td>3.347494</td>\n",
              "      <td>16.586535</td>\n",
              "      <td>96</td>\n",
              "    </tr>\n",
              "    <tr>\n",
              "      <th>97</th>\n",
              "      <td>17.696301</td>\n",
              "      <td>3.161812</td>\n",
              "      <td>17.696301</td>\n",
              "      <td>17.592150</td>\n",
              "      <td>3.254455</td>\n",
              "      <td>17.592150</td>\n",
              "      <td>97</td>\n",
              "    </tr>\n",
              "    <tr>\n",
              "      <th>98</th>\n",
              "      <td>12.640528</td>\n",
              "      <td>2.608519</td>\n",
              "      <td>12.640528</td>\n",
              "      <td>12.754652</td>\n",
              "      <td>2.702353</td>\n",
              "      <td>12.754652</td>\n",
              "      <td>98</td>\n",
              "    </tr>\n",
              "    <tr>\n",
              "      <th>99</th>\n",
              "      <td>12.789697</td>\n",
              "      <td>2.729297</td>\n",
              "      <td>12.789697</td>\n",
              "      <td>20.824600</td>\n",
              "      <td>3.387918</td>\n",
              "      <td>20.824600</td>\n",
              "      <td>99</td>\n",
              "    </tr>\n",
              "  </tbody>\n",
              "</table>\n",
              "</div>"
            ],
            "text/plain": [
              "         loss       mae        mse   val_loss   val_mae    val_mse  epoch\n",
              "95  20.582344  3.292065  20.582344  16.877333  3.211786  16.877333     95\n",
              "96  12.911310  2.651169  12.911310  16.586535  3.347494  16.586535     96\n",
              "97  17.696301  3.161812  17.696301  17.592150  3.254455  17.592150     97\n",
              "98  12.640528  2.608519  12.640528  12.754652  2.702353  12.754652     98\n",
              "99  12.789697  2.729297  12.789697  20.824600  3.387918  20.824600     99"
            ]
          },
          "metadata": {
            "tags": []
          },
          "execution_count": 83
        }
      ]
    },
    {
      "cell_type": "code",
      "metadata": {
        "id": "AaEiMM4YoVqg",
        "colab": {
          "base_uri": "https://localhost:8080/",
          "height": 301
        },
        "outputId": "00010bf5-be7a-4632-9d17-d5e2d209503e"
      },
      "source": [
        "plotter.plot({'Dropout Model': history_dropout}, metric=\"mae\")\n",
        "plt.ylim([0, 10])\n",
        "plt.ylabel('MAE [MPG]')"
      ],
      "execution_count": null,
      "outputs": [
        {
          "output_type": "execute_result",
          "data": {
            "text/plain": [
              "Text(0, 0.5, 'MAE [MPG]')"
            ]
          },
          "metadata": {
            "tags": []
          },
          "execution_count": 84
        },
        {
          "output_type": "display_data",
          "data": {
            "image/png": "[encoded data removed]",
            "text/plain": [
              "<Figure size 432x288 with 1 Axes>"
            ]
          },
          "metadata": {
            "tags": [],
            "needs_background": "light"
          }
        }
      ]
    },
    {
      "cell_type": "code",
      "metadata": {
        "id": "KBg6f1qyoVqi",
        "colab": {
          "base_uri": "https://localhost:8080/"
        },
        "outputId": "68de11dc-5cce-408c-fb82-45420113df72"
      },
      "source": [
        "loss, mae, mse = model.evaluate(normed_test_data, test_labels, verbose=2)\n",
        "\n",
        "print(\"Testing set Mean Abs Error: {:5.2f} MPG\".format(mae))"
      ],
      "execution_count": null,
      "outputs": [
        {
          "output_type": "stream",
          "text": [
            "3/3 - 0s - loss: 20.1879 - mae: 3.4897 - mse: 20.1879\n",
            "Testing set Mean Abs Error:  3.49 MPG\n"
          ],
          "name": "stdout"
        }
      ]
    },
    {
      "cell_type": "markdown",
      "metadata": {
        "id": "1ZfYZf8HoVql"
      },
      "source": [
        "- After adding the dropout the model is generalizing well on the test set.\n",
        "\n",
        "- The performance is better than the larger model."
      ]
    },
    {
      "cell_type": "markdown",
      "metadata": {
        "id": "PJG2Z7U9rjXf"
      },
      "source": [
        "<a id=section404></a>\n",
        "### 4.4 Combined L2 + Dropout"
      ]
    },
    {
      "cell_type": "markdown",
      "metadata": {
        "id": "iq12V6FMrpMq"
      },
      "source": [
        "- We can also combine both L2 regularization and Dropout in a single model."
      ]
    },
    {
      "cell_type": "code",
      "metadata": {
        "id": "yuPSrnv9spcu"
      },
      "source": [
        "from tensorflow.keras import regularizers"
      ],
      "execution_count": null,
      "outputs": []
    },
    {
      "cell_type": "code",
      "metadata": {
        "id": "5l0tGP6LsB1O"
      },
      "source": [
        "model = keras.Sequential([layers.Dense(256, activation='relu', kernel_regularizer=regularizers.l2(0.001), input_shape=[len(train_dataset.keys())]),\n",
        "                          layers.Dropout(0.2),\n",
        "                          layers.Dense(256, activation='relu', kernel_regularizer=regularizers.l2(0.001)),\n",
        "                          layers.Dropout(0.2),\n",
        "                          layers.Dense(256, activation='relu', kernel_regularizer=regularizers.l2(0.001)),\n",
        "                          layers.Dropout(0.2),\n",
        "                          layers.Dense(256, activation='relu', kernel_regularizer=regularizers.l2(0.001)),\n",
        "                          layers.Dropout(0.2),\n",
        "                          layers.Dense(1)])"
      ],
      "execution_count": null,
      "outputs": []
    },
    {
      "cell_type": "code",
      "metadata": {
        "id": "r_8K3ZeJsB1S",
        "colab": {
          "base_uri": "https://localhost:8080/"
        },
        "outputId": "3ee9e65c-0069-485b-87c8-8deff709c9dd"
      },
      "source": [
        "model.summary()"
      ],
      "execution_count": null,
      "outputs": [
        {
          "output_type": "stream",
          "text": [
            "Model: \"sequential_4\"\n",
            "_________________________________________________________________\n",
            "Layer (type)                 Output Shape              Param #   \n",
            "=================================================================\n",
            "dense_18 (Dense)             (None, 256)               2560      \n",
            "_________________________________________________________________\n",
            "dropout_4 (Dropout)          (None, 256)               0         \n",
            "_________________________________________________________________\n",
            "dense_19 (Dense)             (None, 256)               65792     \n",
            "_________________________________________________________________\n",
            "dropout_5 (Dropout)          (None, 256)               0         \n",
            "_________________________________________________________________\n",
            "dense_20 (Dense)             (None, 256)               65792     \n",
            "_________________________________________________________________\n",
            "dropout_6 (Dropout)          (None, 256)               0         \n",
            "_________________________________________________________________\n",
            "dense_21 (Dense)             (None, 256)               65792     \n",
            "_________________________________________________________________\n",
            "dropout_7 (Dropout)          (None, 256)               0         \n",
            "_________________________________________________________________\n",
            "dense_22 (Dense)             (None, 1)                 257       \n",
            "=================================================================\n",
            "Total params: 200,193\n",
            "Trainable params: 200,193\n",
            "Non-trainable params: 0\n",
            "_________________________________________________________________\n"
          ],
          "name": "stdout"
        }
      ]
    },
    {
      "cell_type": "code",
      "metadata": {
        "id": "ixT24N15sB1W"
      },
      "source": [
        "# Defining the optimizer with a specific learning rate of 0.001\n",
        "optimizer = tf.keras.optimizers.RMSprop(0.001)\n",
        "\n",
        "# Compiling the model\n",
        "model.compile(loss='mse', optimizer=optimizer, metrics=['mae', 'mse'])"
      ],
      "execution_count": null,
      "outputs": []
    },
    {
      "cell_type": "code",
      "metadata": {
        "id": "ukwXGeaBsB1b",
        "colab": {
          "base_uri": "https://localhost:8080/"
        },
        "outputId": "9b1fe2aa-7506-4836-93c3-9230ce681cb2"
      },
      "source": [
        "history_l2_dropout = model.fit(normed_train_data, train_labels, epochs=100, validation_split=0.2,\n",
        "                          verbose=0, callbacks=[tfdocs.modeling.EpochDots()])"
      ],
      "execution_count": null,
      "outputs": [
        {
          "output_type": "stream",
          "text": [
            "\n",
            "Epoch: 0, loss:308.9993,  mae:14.7051,  mse:308.2178,  val_loss:62.2418,  val_mae:5.5083,  val_mse:61.4572,  \n",
            "...................................................................................................."
          ],
          "name": "stdout"
        }
      ]
    },
    {
      "cell_type": "code",
      "metadata": {
        "id": "25SnQ-RdsB1d",
        "colab": {
          "base_uri": "https://localhost:8080/",
          "height": 202
        },
        "outputId": "2620e2fa-6b98-4d11-fbfb-cb39675535c2"
      },
      "source": [
        "hist_l2_dropout = pd.DataFrame(history_l2_dropout.history)\n",
        "hist_l2_dropout['epoch'] = history_l2_dropout.epoch\n",
        "hist_l2_dropout.tail()"
      ],
      "execution_count": null,
      "outputs": [
        {
          "output_type": "execute_result",
          "data": {
            "text/html": [
              "<div>\n",
              "<style scoped>\n",
              "    .dataframe tbody tr th:only-of-type {\n",
              "        vertical-align: middle;\n",
              "    }\n",
              "\n",
              "    .dataframe tbody tr th {\n",
              "        vertical-align: top;\n",
              "    }\n",
              "\n",
              "    .dataframe thead th {\n",
              "        text-align: right;\n",
              "    }\n",
              "</style>\n",
              "<table border=\"1\" class=\"dataframe\">\n",
              "  <thead>\n",
              "    <tr style=\"text-align: right;\">\n",
              "      <th></th>\n",
              "      <th>loss</th>\n",
              "      <th>mae</th>\n",
              "      <th>mse</th>\n",
              "      <th>val_loss</th>\n",
              "      <th>val_mae</th>\n",
              "      <th>val_mse</th>\n",
              "      <th>epoch</th>\n",
              "    </tr>\n",
              "  </thead>\n",
              "  <tbody>\n",
              "    <tr>\n",
              "      <th>95</th>\n",
              "      <td>21.140417</td>\n",
              "      <td>3.468782</td>\n",
              "      <td>20.628094</td>\n",
              "      <td>35.606289</td>\n",
              "      <td>5.187733</td>\n",
              "      <td>35.096592</td>\n",
              "      <td>95</td>\n",
              "    </tr>\n",
              "    <tr>\n",
              "      <th>96</th>\n",
              "      <td>15.254751</td>\n",
              "      <td>2.949180</td>\n",
              "      <td>14.743275</td>\n",
              "      <td>10.768423</td>\n",
              "      <td>2.424456</td>\n",
              "      <td>10.256981</td>\n",
              "      <td>96</td>\n",
              "    </tr>\n",
              "    <tr>\n",
              "      <th>97</th>\n",
              "      <td>14.953891</td>\n",
              "      <td>2.888900</td>\n",
              "      <td>14.442780</td>\n",
              "      <td>12.591295</td>\n",
              "      <td>2.625611</td>\n",
              "      <td>12.078728</td>\n",
              "      <td>97</td>\n",
              "    </tr>\n",
              "    <tr>\n",
              "      <th>98</th>\n",
              "      <td>16.752615</td>\n",
              "      <td>3.051144</td>\n",
              "      <td>16.241817</td>\n",
              "      <td>12.782420</td>\n",
              "      <td>2.512667</td>\n",
              "      <td>12.270426</td>\n",
              "      <td>98</td>\n",
              "    </tr>\n",
              "    <tr>\n",
              "      <th>99</th>\n",
              "      <td>15.558301</td>\n",
              "      <td>2.894744</td>\n",
              "      <td>15.047990</td>\n",
              "      <td>8.646150</td>\n",
              "      <td>2.126741</td>\n",
              "      <td>8.135825</td>\n",
              "      <td>99</td>\n",
              "    </tr>\n",
              "  </tbody>\n",
              "</table>\n",
              "</div>"
            ],
            "text/plain": [
              "         loss       mae        mse   val_loss   val_mae    val_mse  epoch\n",
              "95  21.140417  3.468782  20.628094  35.606289  5.187733  35.096592     95\n",
              "96  15.254751  2.949180  14.743275  10.768423  2.424456  10.256981     96\n",
              "97  14.953891  2.888900  14.442780  12.591295  2.625611  12.078728     97\n",
              "98  16.752615  3.051144  16.241817  12.782420  2.512667  12.270426     98\n",
              "99  15.558301  2.894744  15.047990   8.646150  2.126741   8.135825     99"
            ]
          },
          "metadata": {
            "tags": []
          },
          "execution_count": 92
        }
      ]
    },
    {
      "cell_type": "code",
      "metadata": {
        "id": "qQuKnCV6sB1g",
        "colab": {
          "base_uri": "https://localhost:8080/",
          "height": 301
        },
        "outputId": "5de8f6f8-189a-472d-e22f-9cab56add0ff"
      },
      "source": [
        "plotter.plot({'L2 + Dropout Model': history_l2_dropout}, metric=\"mae\")\n",
        "plt.ylim([0, 10])\n",
        "plt.ylabel('MAE [MPG]')"
      ],
      "execution_count": null,
      "outputs": [
        {
          "output_type": "execute_result",
          "data": {
            "text/plain": [
              "Text(0, 0.5, 'MAE [MPG]')"
            ]
          },
          "metadata": {
            "tags": []
          },
          "execution_count": 93
        },
        {
          "output_type": "display_data",
          "data": {
            "image/png": "[encoded data removed]",
            "text/plain": [
              "<Figure size 432x288 with 1 Axes>"
            ]
          },
          "metadata": {
            "tags": [],
            "needs_background": "light"
          }
        }
      ]
    },
    {
      "cell_type": "code",
      "metadata": {
        "id": "1-v5wXeLsB1j",
        "colab": {
          "base_uri": "https://localhost:8080/"
        },
        "outputId": "5f96bc09-c3c3-4dba-928c-a7f8875c7858"
      },
      "source": [
        "loss, mae, mse = model.evaluate(normed_test_data, test_labels, verbose=2)\n",
        "\n",
        "print(\"Testing set Mean Abs Error: {:5.2f} MPG\".format(mae))"
      ],
      "execution_count": null,
      "outputs": [
        {
          "output_type": "stream",
          "text": [
            "3/3 - 0s - loss: 6.6037 - mae: 1.9108 - mse: 6.0934\n",
            "Testing set Mean Abs Error:  1.91 MPG\n"
          ],
          "name": "stdout"
        }
      ]
    },
    {
      "cell_type": "markdown",
      "metadata": {
        "id": "tNui1VYwsB1l"
      },
      "source": [
        "- The combined L2 + Dropout model is also outperforming the larger model.\n",
        "\n",
        "- We can attain a better score if we apply the Early Stopping callback to this model."
      ]
    },
    {
      "cell_type": "markdown",
      "metadata": {
        "id": "LakhW-FJJknp"
      },
      "source": [
        "<a id=section405></a>\n",
        "### 4.5 Batch Normalization"
      ]
    },
    {
      "cell_type": "markdown",
      "metadata": {
        "id": "6sE1VR5qJ1sy"
      },
      "source": [
        "- Batch normalization is a technique for training very deep neural networks.\n",
        "\n",
        "    - It **normalizes** the **activations** of the previous layer at each batch.\n",
        "\n",
        "    - It applies a transformation that maintains the mean activation close to 0 and the activation standard deviation close to 1.\n",
        "\n",
        "- This has the effect of stabilizing the learning process and dramatically reducing the number of training epochs required to train deep networks."
      ]
    },
    {
      "cell_type": "markdown",
      "metadata": {
        "id": "a4tJFLNixvmc"
      },
      "source": [
        "- Batch normalization may be used on the inputs to the layer before or after the activation function in the previous layer.\n",
        "\n",
        "- It may be more appropriate **after** the activation function for **s-shaped** functions like the **hyperbolic tangent** and **logistic** function.\n",
        "\n",
        "- It may be more appropriate **before** the activation function for activations that may result in **non-Gaussian** distributions like the **rectified linear** activation function, the modern default for most network types."
      ]
    },
    {
      "cell_type": "markdown",
      "metadata": {
        "id": "vLiKHADAzSYr"
      },
      "source": [
        "- Since we are using **ReLU** activation function in our model, we will use the Batch Normalization layer **prior** to the ReLU layer."
      ]
    },
    {
      "cell_type": "code",
      "metadata": {
        "id": "nR1ke4p4u2gf"
      },
      "source": [
        "model = keras.Sequential([layers.Dense(256, input_shape=[len(train_dataset.keys())]),\n",
        "                          layers.BatchNormalization(),\n",
        "                          layers.ReLU(),\n",
        "                          layers.Dense(256),\n",
        "                          layers.BatchNormalization(),\n",
        "                          layers.ReLU(),\n",
        "                          layers.Dense(256),\n",
        "                          layers.BatchNormalization(),\n",
        "                          layers.ReLU(),\n",
        "                          layers.Dense(256),\n",
        "                          layers.BatchNormalization(),\n",
        "                          layers.ReLU(),\n",
        "                          layers.Dense(1)])"
      ],
      "execution_count": null,
      "outputs": []
    },
    {
      "cell_type": "code",
      "metadata": {
        "id": "U1hNrhqju2gn",
        "colab": {
          "base_uri": "https://localhost:8080/"
        },
        "outputId": "5b6b72ee-0762-43ae-fa16-9e0ee6a7432c"
      },
      "source": [
        "model.summary()"
      ],
      "execution_count": null,
      "outputs": [
        {
          "output_type": "stream",
          "text": [
            "Model: \"sequential_5\"\n",
            "_________________________________________________________________\n",
            "Layer (type)                 Output Shape              Param #   \n",
            "=================================================================\n",
            "dense_23 (Dense)             (None, 256)               2560      \n",
            "_________________________________________________________________\n",
            "batch_normalization (BatchNo (None, 256)               1024      \n",
            "_________________________________________________________________\n",
            "re_lu (ReLU)                 (None, 256)               0         \n",
            "_________________________________________________________________\n",
            "dense_24 (Dense)             (None, 256)               65792     \n",
            "_________________________________________________________________\n",
            "batch_normalization_1 (Batch (None, 256)               1024      \n",
            "_________________________________________________________________\n",
            "re_lu_1 (ReLU)               (None, 256)               0         \n",
            "_________________________________________________________________\n",
            "dense_25 (Dense)             (None, 256)               65792     \n",
            "_________________________________________________________________\n",
            "batch_normalization_2 (Batch (None, 256)               1024      \n",
            "_________________________________________________________________\n",
            "re_lu_2 (ReLU)               (None, 256)               0         \n",
            "_________________________________________________________________\n",
            "dense_26 (Dense)             (None, 256)               65792     \n",
            "_________________________________________________________________\n",
            "batch_normalization_3 (Batch (None, 256)               1024      \n",
            "_________________________________________________________________\n",
            "re_lu_3 (ReLU)               (None, 256)               0         \n",
            "_________________________________________________________________\n",
            "dense_27 (Dense)             (None, 1)                 257       \n",
            "=================================================================\n",
            "Total params: 204,289\n",
            "Trainable params: 202,241\n",
            "Non-trainable params: 2,048\n",
            "_________________________________________________________________\n"
          ],
          "name": "stdout"
        }
      ]
    },
    {
      "cell_type": "code",
      "metadata": {
        "id": "FRtcyl_0u2gx"
      },
      "source": [
        "# Defining the optimizer with a specific learning rate of 0.001\n",
        "optimizer = tf.keras.optimizers.RMSprop(0.001)\n",
        "\n",
        "# Compiling the model\n",
        "model.compile(loss='mse', optimizer=optimizer, metrics=['mae', 'mse'])"
      ],
      "execution_count": null,
      "outputs": []
    },
    {
      "cell_type": "code",
      "metadata": {
        "id": "Cr-oPvWru2g2",
        "colab": {
          "base_uri": "https://localhost:8080/"
        },
        "outputId": "d89a353d-bdd1-4ea0-e497-a0477f733126"
      },
      "source": [
        "history_batch_norm = model.fit(normed_train_data, train_labels, epochs=100, validation_split=0.2,\n",
        "                          verbose=0, callbacks=[tfdocs.modeling.EpochDots()])"
      ],
      "execution_count": null,
      "outputs": [
        {
          "output_type": "stream",
          "text": [
            "\n",
            "Epoch: 0, loss:487.4963,  mae:21.4980,  mse:487.4963,  val_loss:585.1818,  val_mae:23.1466,  val_mse:585.1818,  \n",
            "...................................................................................................."
          ],
          "name": "stdout"
        }
      ]
    },
    {
      "cell_type": "code",
      "metadata": {
        "id": "b4SQpMuSu2g8",
        "colab": {
          "base_uri": "https://localhost:8080/",
          "height": 202
        },
        "outputId": "c4ed12fa-e540-4c5c-8969-e55458669fd4"
      },
      "source": [
        "hist_batch_norm = pd.DataFrame(history_batch_norm.history)\n",
        "hist_batch_norm['epoch'] = history_batch_norm.epoch\n",
        "hist_batch_norm.tail()"
      ],
      "execution_count": null,
      "outputs": [
        {
          "output_type": "execute_result",
          "data": {
            "text/html": [
              "<div>\n",
              "<style scoped>\n",
              "    .dataframe tbody tr th:only-of-type {\n",
              "        vertical-align: middle;\n",
              "    }\n",
              "\n",
              "    .dataframe tbody tr th {\n",
              "        vertical-align: top;\n",
              "    }\n",
              "\n",
              "    .dataframe thead th {\n",
              "        text-align: right;\n",
              "    }\n",
              "</style>\n",
              "<table border=\"1\" class=\"dataframe\">\n",
              "  <thead>\n",
              "    <tr style=\"text-align: right;\">\n",
              "      <th></th>\n",
              "      <th>loss</th>\n",
              "      <th>mae</th>\n",
              "      <th>mse</th>\n",
              "      <th>val_loss</th>\n",
              "      <th>val_mae</th>\n",
              "      <th>val_mse</th>\n",
              "      <th>epoch</th>\n",
              "    </tr>\n",
              "  </thead>\n",
              "  <tbody>\n",
              "    <tr>\n",
              "      <th>95</th>\n",
              "      <td>5.212842</td>\n",
              "      <td>1.643516</td>\n",
              "      <td>5.212842</td>\n",
              "      <td>8.762499</td>\n",
              "      <td>2.379552</td>\n",
              "      <td>8.762499</td>\n",
              "      <td>95</td>\n",
              "    </tr>\n",
              "    <tr>\n",
              "      <th>96</th>\n",
              "      <td>5.609611</td>\n",
              "      <td>1.702336</td>\n",
              "      <td>5.609611</td>\n",
              "      <td>7.447923</td>\n",
              "      <td>2.107744</td>\n",
              "      <td>7.447923</td>\n",
              "      <td>96</td>\n",
              "    </tr>\n",
              "    <tr>\n",
              "      <th>97</th>\n",
              "      <td>4.538028</td>\n",
              "      <td>1.585803</td>\n",
              "      <td>4.538028</td>\n",
              "      <td>5.542726</td>\n",
              "      <td>1.804263</td>\n",
              "      <td>5.542726</td>\n",
              "      <td>97</td>\n",
              "    </tr>\n",
              "    <tr>\n",
              "      <th>98</th>\n",
              "      <td>7.390363</td>\n",
              "      <td>1.914334</td>\n",
              "      <td>7.390363</td>\n",
              "      <td>7.700166</td>\n",
              "      <td>2.085119</td>\n",
              "      <td>7.700166</td>\n",
              "      <td>98</td>\n",
              "    </tr>\n",
              "    <tr>\n",
              "      <th>99</th>\n",
              "      <td>5.835897</td>\n",
              "      <td>1.838034</td>\n",
              "      <td>5.835897</td>\n",
              "      <td>7.575699</td>\n",
              "      <td>2.124327</td>\n",
              "      <td>7.575699</td>\n",
              "      <td>99</td>\n",
              "    </tr>\n",
              "  </tbody>\n",
              "</table>\n",
              "</div>"
            ],
            "text/plain": [
              "        loss       mae       mse  val_loss   val_mae   val_mse  epoch\n",
              "95  5.212842  1.643516  5.212842  8.762499  2.379552  8.762499     95\n",
              "96  5.609611  1.702336  5.609611  7.447923  2.107744  7.447923     96\n",
              "97  4.538028  1.585803  4.538028  5.542726  1.804263  5.542726     97\n",
              "98  7.390363  1.914334  7.390363  7.700166  2.085119  7.700166     98\n",
              "99  5.835897  1.838034  5.835897  7.575699  2.124327  7.575699     99"
            ]
          },
          "metadata": {
            "tags": []
          },
          "execution_count": 99
        }
      ]
    },
    {
      "cell_type": "code",
      "metadata": {
        "id": "EDbr0Mw9u2hD",
        "colab": {
          "base_uri": "https://localhost:8080/",
          "height": 301
        },
        "outputId": "c967844f-713c-4fa9-f6bd-6a105e8d98d8"
      },
      "source": [
        "plotter.plot({'Batch Normalization Model': history_batch_norm}, metric=\"mae\")\n",
        "plt.ylim([0, 10])\n",
        "plt.ylabel('MAE [MPG]')"
      ],
      "execution_count": null,
      "outputs": [
        {
          "output_type": "execute_result",
          "data": {
            "text/plain": [
              "Text(0, 0.5, 'MAE [MPG]')"
            ]
          },
          "metadata": {
            "tags": []
          },
          "execution_count": 100
        },
        {
          "output_type": "display_data",
          "data": {
            "image/png": "[encoded data removed]",
            "text/plain": [
              "<Figure size 432x288 with 1 Axes>"
            ]
          },
          "metadata": {
            "tags": [],
            "needs_background": "light"
          }
        }
      ]
    },
    {
      "cell_type": "code",
      "metadata": {
        "id": "-85In5bfu2hO",
        "colab": {
          "base_uri": "https://localhost:8080/"
        },
        "outputId": "e1d7d707-d10d-4634-80fa-73b6c4c2f1aa"
      },
      "source": [
        "loss, mae, mse = model.evaluate(normed_test_data, test_labels, verbose=2)\n",
        "\n",
        "print(\"Testing set Mean Abs Error: {:5.2f} MPG\".format(mae))"
      ],
      "execution_count": null,
      "outputs": [
        {
          "output_type": "stream",
          "text": [
            "3/3 - 0s - loss: 5.3680 - mae: 1.8285 - mse: 5.3680\n",
            "Testing set Mean Abs Error:  1.83 MPG\n"
          ],
          "name": "stdout"
        }
      ]
    },
    {
      "cell_type": "markdown",
      "metadata": {
        "id": "qQY3hNH3u2hV"
      },
      "source": [
        "- The Batch Normalization model attains the **lowest test set error**.\n",
        "\n",
        "- We have significantly **reduced** the **overfitting**.\n",
        "\n",
        "- It is generalizing well on the test set."
      ]
    },
    {
      "cell_type": "markdown",
      "metadata": {
        "id": "ReIkODlW1H3Q"
      },
      "source": [
        "- We can also incorporate the Early Stopping callback to this model to stop training at an appropriate epoch."
      ]
    },
    {
      "cell_type": "markdown",
      "metadata": {
        "id": "vgGQuV-yqYZH"
      },
      "source": [
        "<a id=section5></a>\n",
        "## 5. Conclusion\n",
        "\n",
        "We studied a few techniques to handle a regression problem.\n",
        "\n",
        "- **Mean Squared Error** (MSE) is a common loss function used for regression problems (different loss functions are used for classification problems).\n",
        "\n",
        "- Similarly, evaluation metrics used for regression differ from classification.\n",
        "\n",
        "  - A common regression metric is **Mean Absolute Error** (MAE).\n",
        "\n",
        "- When numeric input data features have values with different ranges, each **feature** should be **scaled** independently to the same range.\n",
        "\n",
        "- If there is not much training data, one technique is to prefer a **small network** with few hidden layers to avoid overfitting.\n",
        "\n",
        "- **Early stopping** is a useful technique to prevent overfitting.\n",
        "\n",
        "- We can improve the performance of a model by increasing the number of hidden layers and the hidden units in the model.\n",
        "\n",
        "- Regularization Techniques to reduce overfitting are:\n",
        "\n",
        "  - **Weight Regularization**\n",
        "\n",
        "  - **Dropout**\n",
        "\n",
        "  - **Batch Normalization**"
      ]
    }
  ]
}